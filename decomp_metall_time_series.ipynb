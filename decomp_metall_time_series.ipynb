{
 "cells": [
  {
   "cell_type": "code",
   "execution_count": null,
   "outputs": [],
   "source": [
    "import pandas as pd\n",
    "import seaborn as sns\n",
    "import matplotlib.pyplot as plt\n",
    "import datetime as dt\n",
    "from statsmodels.tsa.seasonal import seasonal_decompose\n",
    "import numpy as np"
   ],
   "metadata": {
    "collapsed": false,
    "pycharm": {
     "name": "#%%\n"
    }
   }
  },
  {
   "cell_type": "code",
   "execution_count": null,
   "outputs": [],
   "source": [
    "file = 'docs/metall_rates.csv'\n",
    "df = pd.read_csv(file, decimal=',')\n",
    "df.info()"
   ],
   "metadata": {
    "collapsed": false,
    "pycharm": {
     "name": "#%%\n"
    }
   }
  },
  {
   "cell_type": "code",
   "execution_count": null,
   "outputs": [],
   "source": [
    "df.head()"
   ],
   "metadata": {
    "collapsed": false,
    "pycharm": {
     "name": "#%%\n"
    }
   }
  },
  {
   "cell_type": "code",
   "execution_count": null,
   "outputs": [],
   "source": [
    "df['date'] = pd.to_datetime(df['date'],\n",
    "                           format = '%d.%m.%Y')\n",
    "df.info()"
   ],
   "metadata": {
    "collapsed": false,
    "pycharm": {
     "name": "#%%\n"
    }
   }
  },
  {
   "cell_type": "code",
   "execution_count": null,
   "outputs": [],
   "source": [
    "df.tail(30)"
   ],
   "metadata": {
    "collapsed": false,
    "pycharm": {
     "name": "#%%\n"
    }
   }
  },
  {
   "cell_type": "code",
   "execution_count": null,
   "outputs": [],
   "source": [],
   "metadata": {
    "collapsed": false,
    "pycharm": {
     "name": "#%%\n"
    }
   }
  },
  {
   "cell_type": "code",
   "execution_count": null,
   "outputs": [],
   "source": [
    "df.date = df.date.sort_values()"
   ],
   "metadata": {
    "collapsed": false,
    "pycharm": {
     "name": "#%%\n"
    }
   }
  },
  {
   "cell_type": "code",
   "execution_count": null,
   "outputs": [],
   "source": [
    "df.head(30)"
   ],
   "metadata": {
    "collapsed": false,
    "pycharm": {
     "name": "#%%\n"
    }
   }
  },
  {
   "cell_type": "code",
   "execution_count": null,
   "outputs": [],
   "source": [
    "df.tail(30)"
   ],
   "metadata": {
    "collapsed": false,
    "pycharm": {
     "name": "#%%\n"
    }
   }
  },
  {
   "cell_type": "code",
   "execution_count": null,
   "outputs": [],
   "source": [
    "# create date_range\n",
    "# end - 2020-10-17\n",
    "yeardays = pd.date_range(start=pd.datetime(2020, 1, 1),\n",
    "                           end=pd.datetime(2020, 10, 17))\n",
    "yeardays"
   ],
   "metadata": {
    "collapsed": false,
    "pycharm": {
     "name": "#%%\n"
    }
   }
  },
  {
   "cell_type": "code",
   "execution_count": null,
   "outputs": [],
   "source": [
    "# convert to DataFrame\n",
    "yeardays = pd.DataFrame(yeardays)\n",
    "yeardays = yeardays.rename(columns={0: \"date\"})\n",
    "yeardays.info()"
   ],
   "metadata": {
    "collapsed": false,
    "pycharm": {
     "name": "#%%\n"
    }
   }
  },
  {
   "cell_type": "code",
   "execution_count": null,
   "outputs": [],
   "source": [
    "# merge two df's \n",
    "ndf = pd.merge(left=yeardays,\n",
    "               right=df,\n",
    "               on=\"date\",\n",
    "              how='outer')\n",
    "ndf.head(35)"
   ],
   "metadata": {
    "collapsed": false,
    "pycharm": {
     "name": "#%%\n"
    }
   }
  },
  {
   "cell_type": "code",
   "execution_count": null,
   "outputs": [],
   "source": [
    "ndf = ndf.ffill(axis = 0)\n",
    "ndf.head(50)"
   ],
   "metadata": {
    "collapsed": false,
    "pycharm": {
     "name": "#%%\n"
    }
   }
  },
  {
   "cell_type": "code",
   "execution_count": null,
   "outputs": [],
   "source": [
    "df = ndf\n",
    "df.info()"
   ],
   "metadata": {
    "collapsed": false,
    "pycharm": {
     "name": "#%%\n"
    }
   }
  },
  {
   "cell_type": "code",
   "execution_count": null,
   "outputs": [],
   "source": [
    "# df['formatted_date'] = pd.to_datetime(df['datetime'])\n",
    "df['month'] = df['date'].apply(lambda x: x.month)\n",
    "df['week'] = df['date'].apply(lambda x: x.weekofyear)"
   ],
   "metadata": {
    "collapsed": false,
    "pycharm": {
     "name": "#%%\n"
    }
   }
  },
  {
   "cell_type": "code",
   "execution_count": null,
   "outputs": [],
   "source": [
    "df['mean_per_week_gold'] = df.groupby('week')['gold'].transform('mean')\n",
    "df['mean_per_week_silver'] = df.groupby('week')['silver'].transform('mean')\n",
    "df['mean_per_month_gold'] = df.groupby('month')['gold'].transform('mean')\n",
    "df['mean_per_month_silver'] = df.groupby('month')['silver'].transform('mean')\n",
    "df.head(50)"
   ],
   "metadata": {
    "collapsed": false,
    "pycharm": {
     "name": "#%%\n"
    }
   }
  },
  {
   "cell_type": "markdown",
   "source": [
    "**Построить**\n",
    "  1. Графики из тетрадки\n",
    "  2. Из средних по месяцам взять и сравнить средние января и октября\n",
    "  3. Скользящие средние на 50 дней"
   ],
   "metadata": {
    "collapsed": false
   }
  },
  {
   "cell_type": "code",
   "execution_count": null,
   "outputs": [],
   "source": [
    "df.index = df['date']\n",
    "df.drop('date',axis = 1, inplace = True)\n",
    "df.head(50)"
   ],
   "metadata": {
    "collapsed": false,
    "pycharm": {
     "name": "#%%\n"
    }
   }
  },
  {
   "cell_type": "code",
   "execution_count": null,
   "outputs": [],
   "source": [
    "df.columns"
   ],
   "metadata": {
    "collapsed": false,
    "pycharm": {
     "name": "#%%\n"
    }
   }
  },
  {
   "cell_type": "code",
   "execution_count": null,
   "outputs": [],
   "source": [
    "for i in df.columns:\n",
    "    print(i)"
   ],
   "metadata": {
    "collapsed": false,
    "pycharm": {
     "name": "#%%\n"
    }
   }
  },
  {
   "cell_type": "code",
   "execution_count": null,
   "outputs": [],
   "source": [
    "# silver_list = ['silver', 'mean_per_week_silver', 'mean_per_month_silver']\n",
    "silver_list = ['silver', 'mean_per_week_silver']\n",
    "# gold_list = ['gold', 'mean_per_week_gold', 'mean_per_month_gold']\n",
    "gold_list = ['gold', 'mean_per_week_gold']"
   ],
   "metadata": {
    "collapsed": false,
    "pycharm": {
     "name": "#%%\n"
    }
   }
  },
  {
   "cell_type": "code",
   "execution_count": null,
   "outputs": [],
   "source": [
    "def plot_for_list(metall_list):\n",
    "    for i in metall_list:\n",
    "        df[i].plot(figsize=(20,6))"
   ],
   "metadata": {
    "collapsed": false,
    "pycharm": {
     "name": "#%%\n"
    }
   }
  },
  {
   "cell_type": "code",
   "execution_count": null,
   "outputs": [],
   "source": [
    "plot_for_list(silver_list)"
   ],
   "metadata": {
    "collapsed": false,
    "pycharm": {
     "name": "#%%\n"
    }
   }
  },
  {
   "cell_type": "code",
   "execution_count": null,
   "outputs": [],
   "source": [
    "plot_for_list(gold_list)"
   ],
   "metadata": {
    "collapsed": false,
    "pycharm": {
     "name": "#%%\n"
    }
   }
  },
  {
   "cell_type": "code",
   "execution_count": null,
   "outputs": [],
   "source": [],
   "metadata": {
    "collapsed": false,
    "pycharm": {
     "name": "#%%\n"
    }
   }
  },
  {
   "cell_type": "code",
   "execution_count": null,
   "outputs": [],
   "source": [
    "def seasonal_decompose_plot(result):\n",
    "    fig, axes = plt.subplots(ncols = 1, nrows = 4, sharex = True, figsize = (12,10))\n",
    "\n",
    "    # ----------------------------------------------------------------------------------------------------\n",
    "    # plot the data\n",
    "    # using this cool thread:\n",
    "    # https://stackoverflow.com/questions/45184055/how-to-plot-multiple-seasonal-decompose-plots-in-one-figure\n",
    "    # This allows us to have more control over the plots\n",
    "\n",
    "    # plot the original data\n",
    "    result.observed.plot(ax = axes[0], legend = False)\n",
    "    axes[0].set_ylabel('Observed')\n",
    "    axes[0].set_title(\"Декомпозичия временного ряда 2020 по золоту\")\n",
    "\n",
    "    # plot the trend\n",
    "    result.trend.plot(ax = axes[1], legend = False)\n",
    "    axes[1].set_ylabel('Trend')\n",
    "\n",
    "    # plot the seasonal part\n",
    "    result.seasonal.plot(ax = axes[2], legend = False)\n",
    "    axes[2].set_ylabel('Seasonal')\n",
    "\n",
    "    # plot the residual\n",
    "    result.resid.plot(ax = axes[3], legend = False)\n",
    "    axes[3].set_ylabel('Residual')\n",
    "\n",
    "    # ----------------------------------------------------------------------------------------------------\n",
    "    # prettify the plot\n",
    "\n",
    "    # get the xticks and the xticks labels\n",
    "    # xtick_location = df.index.tolist()[::6]\n",
    "    # xtick_labels = df[\"new_date\"].tolist()[::6]\n",
    "\n",
    "    # set the xticks to be every 6'th entry\n",
    "    # every 6 months\n",
    "    # ax.set_xticks(xtick_location)\n",
    "\n",
    "    # chage the label from '1949-01-01 00:00:00' to this 'Jan-1949'\n",
    "    # ax.set_xticklabels(xtick_labels, rotation=90, fontdict={'horizontalalignment': 'center', 'verticalalignment': 'center_baseline'});"
   ],
   "metadata": {
    "collapsed": false,
    "pycharm": {
     "name": "#%%\n"
    }
   }
  },
  {
   "cell_type": "code",
   "execution_count": null,
   "outputs": [],
   "source": [
    "result = seasonal_decompose(df['gold'], model='multiplicative')\n",
    "seasonal_decompose_plot(result)"
   ],
   "metadata": {
    "collapsed": false,
    "pycharm": {
     "name": "#%%\n"
    }
   }
  },
  {
   "cell_type": "code",
   "execution_count": null,
   "outputs": [],
   "source": [
    "result = seasonal_decompose(df['silver'], model='multiplicative')\n",
    "seasonal_decompose_plot(result)"
   ],
   "metadata": {
    "collapsed": false,
    "pycharm": {
     "name": "#%%\n"
    }
   }
  },
  {
   "cell_type": "code",
   "execution_count": null,
   "outputs": [],
   "source": [],
   "metadata": {
    "collapsed": false,
    "pycharm": {
     "name": "#%%\n"
    }
   }
  },
  {
   "cell_type": "code",
   "execution_count": null,
   "outputs": [],
   "source": [],
   "metadata": {
    "collapsed": false,
    "pycharm": {
     "name": "#%%\n"
    }
   }
  },
  {
   "cell_type": "code",
   "execution_count": null,
   "outputs": [],
   "source": [
    "# тут построить разложения по месяцам"
   ],
   "metadata": {
    "collapsed": false,
    "pycharm": {
     "name": "#%%\n"
    }
   }
  },
  {
   "cell_type": "code",
   "execution_count": null,
   "outputs": [],
   "source": [
    "# золото и серебро\n",
    "\n",
    "# x = df['date']\n",
    "y1 = df['gold']\n",
    "y2 = df['silver']\n",
    "\n",
    "# Plot Line1 (Left Y Axis)\n",
    "fig, ax1 = plt.subplots(1,1,figsize=(16,9), dpi= 80)\n",
    "# ax1.plot(x, y1, color='tab:red')\n",
    "ax1.plot(y1, color='tab:red')\n",
    "\n",
    "# Plot Line2 (Right Y Axis)\n",
    "ax2 = ax1.twinx()  # instantiate a second axes that shares the same x-axis\n",
    "# ax2.plot(x, y2, color='tab:blue')\n",
    "ax2.plot(y2, color='tab:blue')\n",
    "\n",
    "# Decorations\n",
    "# ax1 (left Y axis)\n",
    "ax1.set_xlabel('Year', fontsize=20)\n",
    "# ax1.tick_params(axis='x', rotation=0, labelsize=12)\n",
    "ax1.set_ylabel('Gold', color='tab:red', fontsize=20)\n",
    "ax1.tick_params(axis='y', rotation=0, labelcolor='tab:red' )\n",
    "ax1.grid(alpha=.4)\n",
    "\n",
    "# ax2 (right Y axis)\n",
    "ax2.set_ylabel(\"Silver\", color='tab:blue', fontsize=20)\n",
    "ax2.tick_params(axis='y', labelcolor='tab:blue')\n",
    "# ax2.set_xticks(np.arange(0, len(x), 60))\n",
    "# ax2.set_xticklabels(x[::60], rotation=90, fontdict={'fontsize':10})\n",
    "ax2.set_title(\"Gold vs Silver\", fontsize=22)\n",
    "fig.tight_layout()\n",
    "plt.show()"
   ],
   "metadata": {
    "collapsed": false,
    "pycharm": {
     "name": "#%%\n"
    }
   }
  },
  {
   "cell_type": "code",
   "execution_count": null,
   "outputs": [],
   "source": [
    "# тут можно построить такие сравнения по месяцам"
   ],
   "metadata": {
    "collapsed": false,
    "pycharm": {
     "name": "#%%\n"
    }
   }
  },
  {
   "cell_type": "code",
   "execution_count": null,
   "outputs": [],
   "source": [
    "# график сезонов\n",
    "def metall_trend_monthly(metall):\n",
    "    mycolors = ['tab:red', 'tab:blue', 'tab:green', 'tab:orange', 'tab:brown', 'tab:grey', 'tab:pink', 'tab:olive', 'deeppink', 'steelblue']\n",
    "    months = ['январь','февраль','март','апрель','май','июнь','июль','август','сентябрь','октябрь']\n",
    "    plt.figure(figsize=(16,10), dpi= 80)\n",
    "    plt.title('Сравнение сезонных трендов по месяцам')\n",
    "    plt.xlabel('day of month', fontsize=14)\n",
    "    plt.ylabel('price', fontsize=14)\n",
    "    lines = []\n",
    "    for i, y in enumerate(df[metall].groupby(pd.Grouper(freq='M'))):\n",
    "        p,=plt.plot(range(len(y[1])),y[1], color=mycolors[i], label=months[i])\n",
    "        lines.append(p)\n",
    "    plt.legend(handles=lines)"
   ],
   "metadata": {
    "collapsed": false,
    "pycharm": {
     "name": "#%%\n"
    }
   }
  },
  {
   "cell_type": "code",
   "execution_count": null,
   "outputs": [],
   "source": [
    "metall_trend_monthly('silver')"
   ],
   "metadata": {
    "collapsed": false,
    "pycharm": {
     "name": "#%%\n"
    }
   }
  },
  {
   "cell_type": "code",
   "execution_count": null,
   "outputs": [],
   "source": [
    "metall_trend_monthly('gold')"
   ],
   "metadata": {
    "collapsed": false,
    "pycharm": {
     "name": "#%%\n"
    }
   }
  },
  {
   "cell_type": "code",
   "execution_count": null,
   "outputs": [],
   "source": [
    "# по неделям - работает плохо\n",
    "\n",
    "# mycolors = ['tab:red', 'tab:blue', 'tab:green', 'tab:orange', 'tab:brown', 'tab:grey', 'tab:pink', 'tab:olive', 'deeppink', 'steelblue']\n",
    "# week_days = ['понедельник','вторник','среда','четверг','пятница','суббота','воскресенье']\n",
    "# plt.figure(figsize=(16,10), dpi= 80)\n",
    "# plt.title('Сравнение сезонных трендов по неделям')\n",
    "# plt.xlabel('day of week', fontsize=14)\n",
    "# plt.ylabel('price', fontsize=14)\n",
    "# lines = []\n",
    "# for i, y in enumerate(df['silver'].groupby(pd.Grouper(freq='W'))):\n",
    "#     p,=plt.plot(range(len(y[1])),y[1], color=mycolors[i], label=week_days[i])\n",
    "#     lines.append(p)\n",
    "# plt.legend(handles=lines)"
   ],
   "metadata": {
    "collapsed": false,
    "pycharm": {
     "name": "#%%\n"
    }
   }
  },
  {
   "cell_type": "code",
   "execution_count": null,
   "outputs": [],
   "source": [
    "from datetime import date"
   ],
   "metadata": {
    "collapsed": false,
    "pycharm": {
     "name": "#%%\n"
    }
   }
  },
  {
   "cell_type": "code",
   "execution_count": null,
   "outputs": [],
   "source": [
    "allbanks = pd.read_csv('docs/allbanks.csv', \n",
    "                       encoding='cp1251', \n",
    "                       sep=';', \n",
    "                       index_col=0)\n",
    "allcoins = pd.read_csv('docs/allcoins.csv', \n",
    "                       encoding='cp1251', \n",
    "                       sep=';', \n",
    "                       index_col=0)\n",
    "prices = pd.read_csv('docs/prices.csv', \n",
    "                     encoding='cp1251', \n",
    "                     sep=';')"
   ],
   "metadata": {
    "collapsed": false,
    "pycharm": {
     "name": "#%%\n"
    }
   }
  },
  {
   "cell_type": "code",
   "execution_count": null,
   "outputs": [],
   "source": [
    "allbanks.head()"
   ],
   "metadata": {
    "collapsed": false,
    "pycharm": {
     "name": "#%%\n"
    }
   }
  },
  {
   "cell_type": "code",
   "execution_count": null,
   "outputs": [],
   "source": [
    "allcoins.head()"
   ],
   "metadata": {
    "collapsed": false,
    "pycharm": {
     "name": "#%%\n"
    }
   }
  },
  {
   "cell_type": "code",
   "execution_count": null,
   "outputs": [],
   "source": [
    "allcoins.DT = pd.to_datetime(allcoins.DT, unit='s').dt.date\n",
    "allcoins.head()"
   ],
   "metadata": {
    "collapsed": false,
    "pycharm": {
     "name": "#%%\n"
    }
   }
  },
  {
   "cell_type": "code",
   "execution_count": null,
   "outputs": [],
   "source": [
    "prices.head()"
   ],
   "metadata": {
    "collapsed": false,
    "pycharm": {
     "name": "#%%\n"
    }
   }
  },
  {
   "cell_type": "code",
   "execution_count": null,
   "outputs": [],
   "source": [
    "prices.date = pd.to_datetime(prices.date, unit='s').dt.date\n",
    "prices.head()"
   ],
   "metadata": {
    "collapsed": false,
    "pycharm": {
     "name": "#%%\n"
    }
   }
  },
  {
   "cell_type": "code",
   "execution_count": null,
   "outputs": [],
   "source": [
    "result_df = prices.merge(allcoins, left_on = 'id_coin', right_index=True)\n",
    "result_df.head()"
   ],
   "metadata": {
    "collapsed": false,
    "pycharm": {
     "name": "#%%\n"
    }
   }
  },
  {
   "cell_type": "code",
   "execution_count": null,
   "outputs": [],
   "source": [
    "result_df = result_df.merge(allbanks, left_on = 'id_bank', right_index=True)\n",
    "result_df.head()"
   ],
   "metadata": {
    "collapsed": false,
    "pycharm": {
     "name": "#%%\n"
    }
   }
  },
  {
   "cell_type": "code",
   "execution_count": null,
   "outputs": [],
   "source": [
    "# visualization"
   ],
   "metadata": {
    "collapsed": false,
    "pycharm": {
     "name": "#%%\n"
    }
   }
  },
  {
   "cell_type": "code",
   "execution_count": null,
   "outputs": [],
   "source": [
    "result_df['metal'].unique()"
   ],
   "metadata": {
    "collapsed": false,
    "pycharm": {
     "name": "#%%\n"
    }
   }
  },
  {
   "cell_type": "code",
   "execution_count": null,
   "outputs": [],
   "source": [
    "nedrag_list = ['Медно-никелевый сплав',\n",
    "               'Сталь с латунным/никелевым гальваническим покрытием',\n",
    "               'Сталь с латунным гальваническим покрытием', \n",
    "               'Латунь/Мельхиор',\n",
    "               'Сталь с никелевым гальваническим покрытием', \n",
    "               'Мельхиор']"
   ],
   "metadata": {
    "collapsed": false,
    "pycharm": {
     "name": "#%%\n"
    }
   }
  },
  {
   "cell_type": "code",
   "execution_count": null,
   "outputs": [],
   "source": [
    "drag_list = ['Ag-925', \n",
    "             'Au-999', \n",
    "             'Ag-999', \n",
    "             'Ag-900', \n",
    "             'Au-900',\n",
    "             'Ag-500',\n",
    "             'Ag-900/Au-900',\n",
    "             'Ag-925/Au-999', \n",
    "             'Ag-925/позолота']"
   ],
   "metadata": {
    "collapsed": false,
    "pycharm": {
     "name": "#%%\n"
    }
   }
  },
  {
   "cell_type": "code",
   "execution_count": null,
   "outputs": [],
   "source": [
    "# result_df_nedrag = result_df.query(\"metal not in nedrag_list\")\n",
    "# result_df_nedrag = result_df['metal'].\n",
    "def clear_not_in_list(metall_list, income_df):\n",
    "    resultat = income_df.copy()\n",
    "    for i in metall_list:\n",
    "        resultat = resultat[resultat.metal != i]\n",
    "    return resultat"
   ],
   "metadata": {
    "collapsed": false,
    "pycharm": {
     "name": "#%%\n"
    }
   }
  },
  {
   "cell_type": "code",
   "execution_count": null,
   "outputs": [],
   "source": [
    "result_df_drag = clear_not_in_list(nedrag_list, result_df)\n",
    "result_df_drag.head()"
   ],
   "metadata": {
    "collapsed": false,
    "pycharm": {
     "name": "#%%\n"
    }
   }
  },
  {
   "cell_type": "code",
   "execution_count": null,
   "outputs": [],
   "source": [
    "result_df_nedrag = clear_not_in_list(drag_list, result_df)\n",
    "result_df_nedrag.head()"
   ],
   "metadata": {
    "collapsed": false,
    "pycharm": {
     "name": "#%%\n"
    }
   }
  },
  {
   "cell_type": "code",
   "execution_count": null,
   "outputs": [],
   "source": [],
   "metadata": {
    "collapsed": false,
    "pycharm": {
     "name": "#%%\n"
    }
   }
  },
  {
   "cell_type": "code",
   "execution_count": null,
   "outputs": [],
   "source": [
    "# по количеству выпущенных монет (в тираже) за последние 3 года"
   ],
   "metadata": {
    "collapsed": false,
    "pycharm": {
     "name": "#%%\n"
    }
   }
  },
  {
   "cell_type": "code",
   "execution_count": null,
   "outputs": [],
   "source": [
    "startdate = pd.to_datetime(\"2017-01-01\").date()\n",
    "startdate"
   ],
   "metadata": {
    "collapsed": false,
    "pycharm": {
     "name": "#%%\n"
    }
   }
  },
  {
   "cell_type": "code",
   "execution_count": null,
   "outputs": [],
   "source": [
    "result_df_nedrag_3_years = result_df_nedrag[result_df_nedrag['date'] >= startdate]\n",
    "result_df_nedrag_3_years.head(20)"
   ],
   "metadata": {
    "collapsed": false,
    "pycharm": {
     "name": "#%%\n"
    }
   }
  },
  {
   "cell_type": "code",
   "execution_count": null,
   "outputs": [],
   "source": [
    "result_df_drag_3_years = result_df_drag[result_df_drag['date'] >= startdate]\n",
    "result_df_drag_3_years.head(20)"
   ],
   "metadata": {
    "collapsed": false,
    "pycharm": {
     "name": "#%%\n"
    }
   }
  },
  {
   "cell_type": "code",
   "execution_count": null,
   "outputs": [],
   "source": [
    "# ВОТ ОТСЮДА"
   ],
   "metadata": {
    "collapsed": false,
    "pycharm": {
     "name": "#%%\n"
    }
   }
  },
  {
   "cell_type": "code",
   "execution_count": null,
   "outputs": [],
   "source": [
    "sns.countplot(data = result_df_drag_3_years['Nominal'],\n",
    "              y = result_df_drag_3_years['Mintage']);\n",
    "plt.show()"
   ],
   "metadata": {
    "collapsed": false,
    "pycharm": {
     "name": "#%%\n"
    }
   }
  },
  {
   "cell_type": "code",
   "execution_count": null,
   "outputs": [],
   "source": [],
   "metadata": {
    "collapsed": false,
    "pycharm": {
     "name": "#%%\n"
    }
   }
  },
  {
   "cell_type": "code",
   "execution_count": null,
   "outputs": [],
   "source": [
    "sns.countplot(result_df_nedrag_3_years['Nominal']);\n",
    "plt.show()"
   ],
   "metadata": {
    "collapsed": false,
    "pycharm": {
     "name": "#%%\n"
    }
   }
  },
  {
   "cell_type": "code",
   "execution_count": null,
   "outputs": [],
   "source": [
    "sns.histplot(result_df_drag_3_years['Nominal'],\n",
    "             bins=3,\n",
    "             kde=False)"
   ],
   "metadata": {
    "collapsed": false,
    "pycharm": {
     "name": "#%%\n"
    }
   }
  },
  {
   "cell_type": "code",
   "execution_count": null,
   "outputs": [],
   "source": [
    "# по количеству видов выпущенных монет за последние 3 года"
   ],
   "metadata": {
    "collapsed": false,
    "pycharm": {
     "name": "#%%\n"
    }
   }
  },
  {
   "cell_type": "code",
   "execution_count": null,
   "outputs": [],
   "source": [
    "sns."
   ],
   "metadata": {
    "collapsed": false,
    "pycharm": {
     "name": "#%%\n"
    }
   }
  },
  {
   "cell_type": "code",
   "execution_count": null,
   "outputs": [],
   "source": [],
   "metadata": {
    "collapsed": false,
    "pycharm": {
     "name": "#%%\n"
    }
   }
  },
  {
   "cell_type": "code",
   "execution_count": null,
   "outputs": [],
   "source": [],
   "metadata": {
    "collapsed": false,
    "pycharm": {
     "name": "#%%\n"
    }
   }
  },
  {
   "cell_type": "code",
   "execution_count": null,
   "outputs": [],
   "source": [],
   "metadata": {
    "collapsed": false,
    "pycharm": {
     "name": "#%%\n"
    }
   }
  },
  {
   "cell_type": "code",
   "execution_count": null,
   "outputs": [],
   "source": [],
   "metadata": {
    "collapsed": false,
    "pycharm": {
     "name": "#%%\n"
    }
   }
  },
  {
   "cell_type": "code",
   "execution_count": null,
   "outputs": [],
   "source": [],
   "metadata": {
    "collapsed": false,
    "pycharm": {
     "name": "#%%\n"
    }
   }
  },
  {
   "cell_type": "code",
   "execution_count": null,
   "outputs": [],
   "source": [
    "df.to_csv('docs/drags.csv')"
   ],
   "metadata": {
    "collapsed": false,
    "pycharm": {
     "name": "#%%\n"
    }
   }
  },
  {
   "cell_type": "code",
   "execution_count": null,
   "outputs": [],
   "source": [],
   "metadata": {
    "collapsed": false,
    "pycharm": {
     "name": "#%%\n"
    }
   }
  },
  {
   "cell_type": "code",
   "execution_count": null,
   "outputs": [],
   "source": [],
   "metadata": {
    "collapsed": false,
    "pycharm": {
     "name": "#%%\n"
    }
   }
  }
 ],
 "metadata": {
  "kernelspec": {
   "display_name": "Python 3",
   "language": "python",
   "name": "python3"
  },
  "language_info": {
   "codemirror_mode": {
    "name": "ipython",
    "version": 3
   },
   "file_extension": ".py",
   "mimetype": "text/x-python",
   "name": "python",
   "nbconvert_exporter": "python",
   "pygments_lexer": "ipython3",
   "version": "3.8.3"
  }
 },
 "nbformat": 4,
 "nbformat_minor": 1
}