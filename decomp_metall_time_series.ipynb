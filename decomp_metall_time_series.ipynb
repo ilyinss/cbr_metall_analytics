{
 "cells": [
  {
   "cell_type": "code",
   "execution_count": null,
   "outputs": [],
   "source": [
    "import pandas as pd\n",
    "import seaborn as sns\n",
    "import matplotlib.pyplot as plt\n",
    "# plt.rcParams['figure.figsize'] = (10, 6)\n",
    "import datetime as dt\n",
    "from statsmodels.tsa.seasonal import seasonal_decompose\n",
    "import numpy as np\n",
    "\n",
    "from plotly.offline import iplot\n",
    "import plotly\n",
    "import plotly.graph_objs as go\n",
    "import plotly.graph_objects as go\n",
    "import plotly.express as px\n",
    "from plotly.subplots import make_subplots\n",
    "import plotly.io as pio\n",
    "from plotly import tools\n",
    "\n",
    "import os\n",
    "\n",
    "if not os.path.exists(\"images\"):\n",
    "    os.mkdir(\"images\")"
   ],
   "metadata": {
    "collapsed": false,
    "pycharm": {
     "name": "#%%\n"
    }
   }
  },
  {
   "cell_type": "code",
   "execution_count": null,
   "outputs": [],
   "source": [
    "file = 'docs/metall_rates.csv'\n",
    "df = pd.read_csv(file, decimal=',')\n",
    "df.info()"
   ],
   "metadata": {
    "collapsed": false,
    "pycharm": {
     "name": "#%%\n"
    }
   }
  },
  {
   "cell_type": "code",
   "execution_count": null,
   "outputs": [],
   "source": [
    "df.head()"
   ],
   "metadata": {
    "collapsed": false,
    "pycharm": {
     "name": "#%%\n"
    }
   }
  },
  {
   "cell_type": "code",
   "execution_count": null,
   "outputs": [],
   "source": [
    "df['date'] = pd.to_datetime(df['date'],\n",
    "                           format = '%d.%m.%Y')\n",
    "df.info()"
   ],
   "metadata": {
    "collapsed": false,
    "pycharm": {
     "name": "#%%\n"
    }
   }
  },
  {
   "cell_type": "code",
   "execution_count": null,
   "outputs": [],
   "source": [
    "df.date = df.date.sort_values(ascending=False)\n",
    "df.head()"
   ],
   "metadata": {
    "collapsed": false,
    "pycharm": {
     "name": "#%%\n"
    }
   }
  },
  {
   "cell_type": "code",
   "execution_count": null,
   "outputs": [],
   "source": [
    "# create date_range\n",
    "# end - 2020-10-23\n",
    "yeardays = pd.date_range(start=pd.datetime(2018, 1, 1),\n",
    "                           end=pd.datetime(2020, 10, 23))\n",
    "yeardays"
   ],
   "metadata": {
    "collapsed": false,
    "pycharm": {
     "name": "#%%\n"
    }
   }
  },
  {
   "cell_type": "code",
   "execution_count": null,
   "outputs": [],
   "source": [
    "# convert to DataFrame\n",
    "yeardays = pd.DataFrame(yeardays)\n",
    "yeardays = yeardays.rename(columns={0: \"date\"})\n",
    "yeardays.info()"
   ],
   "metadata": {
    "collapsed": false,
    "pycharm": {
     "name": "#%%\n"
    }
   }
  },
  {
   "cell_type": "code",
   "execution_count": null,
   "outputs": [],
   "source": [
    "# merge two df's \n",
    "ndf = pd.merge(left=yeardays,\n",
    "               right=df,\n",
    "               on=\"date\",\n",
    "              how='outer')\n",
    "ndf.head()"
   ],
   "metadata": {
    "collapsed": false,
    "pycharm": {
     "name": "#%%\n"
    }
   }
  },
  {
   "cell_type": "code",
   "execution_count": null,
   "outputs": [],
   "source": [
    "ndf = ndf.ffill(axis = 0)\n",
    "ndf.head(15)"
   ],
   "metadata": {
    "collapsed": false,
    "pycharm": {
     "name": "#%%\n"
    }
   }
  },
  {
   "cell_type": "code",
   "execution_count": null,
   "outputs": [],
   "source": [
    "df = ndf\n",
    "df.info()"
   ],
   "metadata": {
    "collapsed": false,
    "pycharm": {
     "name": "#%%\n"
    }
   }
  },
  {
   "cell_type": "code",
   "execution_count": null,
   "outputs": [],
   "source": [
    "df['day'] = df['date'].dt.day\n",
    "df['week'] = df['date'].dt.isocalendar().week\n",
    "df['month'] = df['date'].dt.month\n",
    "\n",
    "df.columns"
   ],
   "metadata": {
    "collapsed": false,
    "pycharm": {
     "name": "#%%\n"
    }
   }
  },
  {
   "cell_type": "code",
   "execution_count": null,
   "outputs": [],
   "source": [
    "df.head()"
   ],
   "metadata": {
    "collapsed": false,
    "pycharm": {
     "name": "#%%\n"
    }
   }
  },
  {
   "cell_type": "code",
   "execution_count": null,
   "outputs": [],
   "source": [
    "# df['formatted_date'] = pd.to_datetime(df['datetime'])\n",
    "# df['month'] = df['date'].apply(lambda x: x.month)\n",
    "# df['week'] = df['date'].apply(lambda x: x.weekofyear)\n",
    "# df['day'] = df['date'].apply(lambda x: x.days)"
   ],
   "metadata": {
    "collapsed": false,
    "pycharm": {
     "name": "#%%\n"
    }
   }
  },
  {
   "cell_type": "code",
   "execution_count": null,
   "outputs": [],
   "source": [],
   "metadata": {
    "collapsed": false,
    "pycharm": {
     "name": "#%%\n"
    }
   }
  },
  {
   "cell_type": "code",
   "execution_count": null,
   "outputs": [],
   "source": [
    "# mean per week\n",
    "df['mean_per_week_gold'] = df.groupby('week')['gold'].transform('mean')\n",
    "df['mean_per_week_silver'] = df.groupby('week')['silver'].transform('mean')\n",
    "df['mean_per_month_gold'] = df.groupby('month')['gold'].transform('mean')\n",
    "df['mean_per_month_silver'] = df.groupby('month')['silver'].transform('mean')"
   ],
   "metadata": {
    "collapsed": false,
    "pycharm": {
     "name": "#%%\n"
    }
   }
  },
  {
   "cell_type": "code",
   "execution_count": null,
   "outputs": [],
   "source": [
    "# rolling gold\n",
    "df['rolling_7_gold'] = df['gold'].rolling(window=7).mean()\n",
    "df['rolling_35_gold'] = df['gold'].rolling(window=35).mean()\n",
    "df['rolling_50_gold'] = df['gold'].rolling(window=50).mean()"
   ],
   "metadata": {
    "collapsed": false,
    "pycharm": {
     "name": "#%%\n"
    }
   }
  },
  {
   "cell_type": "code",
   "execution_count": null,
   "outputs": [],
   "source": [
    "# rolling silver\n",
    "df['rolling_7_silver'] = df['silver'].rolling(window=7).mean()\n",
    "df['rolling_35_silver'] = df['silver'].rolling(window=35).mean()\n",
    "df['rolling_50_silver'] = df['silver'].rolling(window=50).mean()"
   ],
   "metadata": {
    "collapsed": false,
    "pycharm": {
     "name": "#%%\n"
    }
   }
  },
  {
   "cell_type": "code",
   "execution_count": null,
   "outputs": [],
   "source": [
    "# exponential mean gold\n",
    "df['ewm_7_gold'] = df['gold'].ewm(span=7, adjust=False).mean()\n",
    "df['ewm_35_gold'] = df['gold'].ewm(span=35, adjust=False).mean()\n",
    "df['ewm_50_gold'] = df['gold'].ewm(span=50, adjust=False).mean()"
   ],
   "metadata": {
    "collapsed": false,
    "pycharm": {
     "name": "#%%\n"
    }
   }
  },
  {
   "cell_type": "code",
   "execution_count": null,
   "outputs": [],
   "source": [
    "# exponential mean silver\n",
    "df['ewm_7_silver'] = df['silver'].ewm(span=7, adjust=False).mean()\n",
    "df['ewm_35_silver'] = df['silver'].ewm(span=35, adjust=False).mean()\n",
    "df['ewm_50_silver'] = df['silver'].ewm(span=50, adjust=False).mean()"
   ],
   "metadata": {
    "collapsed": false,
    "pycharm": {
     "name": "#%%\n"
    }
   }
  },
  {
   "cell_type": "code",
   "execution_count": null,
   "outputs": [],
   "source": [
    "df.head(15)"
   ],
   "metadata": {
    "collapsed": false,
    "pycharm": {
     "name": "#%%\n"
    }
   }
  },
  {
   "cell_type": "code",
   "execution_count": null,
   "outputs": [],
   "source": [
    "df.index = df['date']\n",
    "df.drop('date',axis = 1, inplace = True)\n",
    "df.head()"
   ],
   "metadata": {
    "collapsed": false,
    "pycharm": {
     "name": "#%%\n"
    }
   }
  },
  {
   "cell_type": "code",
   "execution_count": null,
   "outputs": [],
   "source": [
    "for i in df.columns:\n",
    "    print(i)"
   ],
   "metadata": {
    "collapsed": false,
    "pycharm": {
     "name": "#%%\n"
    }
   }
  },
  {
   "cell_type": "code",
   "execution_count": null,
   "outputs": [],
   "source": [
    "# silver_list = ['silver', \n",
    "# #                'mean_per_week_silver', \n",
    "# #                'rolling_7_silver',\n",
    "# #                'rolling_35_silver',\n",
    "#                'rolling_50_silver']\n",
    "# gold_list = ['gold',\n",
    "# #              'mean_per_week_gold', \n",
    "# #              'rolling_7_gold',\n",
    "# #              'rolling_35_gold',\n",
    "#              'rolling_50_gold']"
   ],
   "metadata": {
    "collapsed": false,
    "pycharm": {
     "name": "#%%\n"
    }
   }
  },
  {
   "cell_type": "code",
   "execution_count": null,
   "outputs": [],
   "source": [
    "# !pip3 install psutil\n",
    "# !pip3 install -U kaleido"
   ],
   "metadata": {
    "collapsed": false,
    "pycharm": {
     "name": "#%%\n"
    }
   }
  },
  {
   "cell_type": "code",
   "execution_count": null,
   "outputs": [],
   "source": [
    "fig = go.Figure()\n",
    "fig.add_trace(go.Scatter(x=df.index, \n",
    "                         y=df.silver, \n",
    "                         name='Цена на серебро'))\n",
    "fig.add_trace(go.Scatter(x=df.index, \n",
    "                         y=df.rolling_50_silver, \n",
    "                         name='Скользящая средняя за 50 дней'))\n",
    "fig.add_trace(go.Scatter(x=df.index, \n",
    "                         y=df.ewm_50_silver, \n",
    "                         name='Экспоненициальная скользящая средняя за 50 дней'))\n",
    "\n",
    "fig.update_layout(\n",
    "    plot_bgcolor='rgba(0,0,0,0)',\n",
    "#     gridcolor='LightPink',\n",
    "    autosize=False,\n",
    "    width=1024,\n",
    "    height=600,\n",
    "    title=\"График цен на серебро за 2018 - 2020 год (цена дневная р/грамм и недельная средняя)\",\n",
    "    title_x = 0.5,\n",
    "    legend=dict(x=.5, xanchor=\"center\", orientation=\"h\"),\n",
    "    barmode='overlay',\n",
    "    margin=dict(l=50, r=50, t=30, b=30))\n",
    "\n",
    "\n",
    "\n",
    "#     xaxis_title=\"Месяцы\",\n",
    "#     yaxis_title=\"Рубли\",\n",
    "\n",
    "\n",
    "fig.update_xaxes(showgrid=True, \n",
    "                 gridwidth=1, \n",
    "                 gridcolor='lightblue', \n",
    "                 title_text = 'Месяцы')\n",
    "fig.update_yaxes(showgrid=True, \n",
    "                 gridwidth=1, \n",
    "                 gridcolor='lightblue',\n",
    "                 title_text = 'Рубли')\n",
    "\n",
    "\n",
    "fig.show()"
   ],
   "metadata": {
    "collapsed": false,
    "pycharm": {
     "name": "#%%\n"
    }
   }
  },
  {
   "cell_type": "code",
   "execution_count": null,
   "outputs": [],
   "source": [
    "fig = go.Figure()\n",
    "fig.add_trace(go.Scatter(\n",
    "    x=df.index, \n",
    "    y=df.gold, \n",
    "    name='Цена на золото'))\n",
    "fig.add_trace(go.Scatter(\n",
    "    x=df.index, \n",
    "    y=df.rolling_50_gold, \n",
    "    name='Скользящая средняя за 50 дней'))\n",
    "fig.add_trace(go.Scatter(\n",
    "    x=df.index, \n",
    "    y=df.ewm_50_gold, \n",
    "    name='Экспоненициальная скользящая средняя за 50 дней'))\n",
    "\n",
    "fig.update_layout(\n",
    "    plot_bgcolor='rgba(0,0,0,0)',\n",
    "    autosize=False,\n",
    "    width=1024,\n",
    "    height=600,\n",
    "    title=\"График цен на золото за 2018 - 2020 год (цена дневная р/грамм и недельная средняя)\",\n",
    "    title_x = 0.5,\n",
    "    legend=dict(x=.5, xanchor=\"center\", orientation=\"h\"),\n",
    "    barmode='overlay',\n",
    "    margin=dict(l=50, r=50, t=30, b=30))\n",
    "\n",
    "\n",
    "fig.update_xaxes(showgrid=True, \n",
    "                 gridwidth=1, \n",
    "                 gridcolor='lightblue', \n",
    "                 title_text = 'Месяцы')\n",
    "fig.update_yaxes(showgrid=True, \n",
    "                 gridwidth=1, \n",
    "                 gridcolor='lightblue',\n",
    "                 title_text = 'Рубли')\n",
    "\n",
    "\n",
    "fig.show()"
   ],
   "metadata": {
    "collapsed": false,
    "pycharm": {
     "name": "#%%\n"
    }
   }
  },
  {
   "cell_type": "code",
   "execution_count": null,
   "outputs": [],
   "source": [
    "def seasonal_decompose_plot(result, metall):\n",
    "    trace1 = go.Scatter(\n",
    "        x=result.observed.index,\n",
    "        y=result.observed\n",
    "    )\n",
    "\n",
    "    trace2 = go.Scatter(\n",
    "        x=result.trend.index,\n",
    "        y=result.trend,\n",
    "        xaxis='x2',\n",
    "        yaxis='y2'\n",
    "    )\n",
    "\n",
    "    trace3 = go.Scatter(\n",
    "        x=result.seasonal.index,\n",
    "        y=result.seasonal,\n",
    "        xaxis='x3',\n",
    "        yaxis='y3'\n",
    "    )\n",
    "\n",
    "    trace4 = go.Scatter(\n",
    "        x=result.resid.index,\n",
    "        y=result.resid,\n",
    "        xaxis='x4',\n",
    "        yaxis='y4'\n",
    "    )\n",
    "\n",
    "    data = [trace1, trace2, trace3, trace4]\n",
    "    layout = go.Layout(\n",
    "        showlegend=False,\n",
    "    )\n",
    "\n",
    "    fig = make_subplots(\n",
    "        rows=4,\n",
    "        cols=1,\n",
    "        print_grid=False\n",
    "    )\n",
    "\n",
    "    fig.append_trace(trace1, 1, 1)\n",
    "    fig.append_trace(trace2, 2, 1)\n",
    "    fig.append_trace(trace3, 3, 1)\n",
    "    fig.append_trace(trace4, 4, 1)\n",
    "\n",
    "    fig['layout'].update(\n",
    "        plot_bgcolor='rgba(0,0,0,0)',\n",
    "        title=(f\"Декомпозиция временного ряда 2020 ({metall})\"),\n",
    "        title_x = 0.5,\n",
    "        showlegend=False,\n",
    "        height=1024,\n",
    "        yaxis=dict(title=\"График\",\n",
    "                   gridcolor='lightblue'),\n",
    "        xaxis = dict(gridcolor='lightblue'),\n",
    "        \n",
    "        yaxis2=dict(title=\"Тренд\",\n",
    "                   gridcolor='lightblue'),\n",
    "        xaxis2 = dict(gridcolor='lightblue'),\n",
    "        \n",
    "        yaxis3=dict(title=\"Сезонная компонента\",\n",
    "                   gridcolor='lightblue'),\n",
    "        xaxis3 = dict(gridcolor='lightblue'),\n",
    "        \n",
    "        yaxis4=dict(title=\"Остаточная компонента\",\n",
    "                   gridcolor='lightblue'),\n",
    "        xaxis4=dict(title=\"Временной ряд\",\n",
    "                    gridcolor='lightblue'))\n",
    "\n",
    "\n",
    "    plotly.offline.iplot(fig)"
   ],
   "metadata": {
    "collapsed": false,
    "pycharm": {
     "name": "#%%\n"
    }
   }
  },
  {
   "cell_type": "code",
   "execution_count": null,
   "outputs": [],
   "source": [
    "# ЭТОТ ГРАФИК"
   ],
   "metadata": {
    "collapsed": false,
    "pycharm": {
     "name": "#%%\n"
    }
   }
  },
  {
   "cell_type": "code",
   "execution_count": null,
   "outputs": [],
   "source": [
    "start_01_01_2020 = pd.to_datetime(\"2020-01-01\").date()\n",
    "\n",
    "df2020 = df[start_01_01_2020:]\n",
    "# df_last_month = df[last_month:]\n",
    "df2020.tail()"
   ],
   "metadata": {
    "collapsed": false,
    "pycharm": {
     "name": "#%%\n"
    }
   }
  },
  {
   "cell_type": "code",
   "execution_count": null,
   "outputs": [],
   "source": [
    "result = seasonal_decompose(df2020['gold'], model='multiplicative')\n",
    "seasonal_decompose_plot(result, 'золото')"
   ],
   "metadata": {
    "collapsed": false,
    "pycharm": {
     "name": "#%%\n"
    }
   }
  },
  {
   "cell_type": "code",
   "execution_count": null,
   "outputs": [],
   "source": [
    "result = seasonal_decompose(df2020['silver'], model='multiplicative')\n",
    "seasonal_decompose_plot(result, 'серебро')"
   ],
   "metadata": {
    "collapsed": false,
    "pycharm": {
     "name": "#%%\n"
    }
   }
  },
  {
   "cell_type": "code",
   "execution_count": null,
   "outputs": [],
   "source": [
    "# тут построить разложения по месяцам"
   ],
   "metadata": {
    "collapsed": false,
    "pycharm": {
     "name": "#%%\n"
    }
   }
  },
  {
   "cell_type": "code",
   "execution_count": null,
   "outputs": [],
   "source": [
    "last_month = pd.to_datetime(\"2020-10-01\").date()"
   ],
   "metadata": {
    "collapsed": false,
    "pycharm": {
     "name": "#%%\n"
    }
   }
  },
  {
   "cell_type": "code",
   "execution_count": null,
   "outputs": [],
   "source": [
    "df.tail()"
   ],
   "metadata": {
    "collapsed": false,
    "pycharm": {
     "name": "#%%\n"
    }
   }
  },
  {
   "cell_type": "code",
   "execution_count": null,
   "outputs": [],
   "source": [
    "df_last_month = df[last_month:]\n",
    "df_last_month.tail(35)"
   ],
   "metadata": {
    "collapsed": false,
    "pycharm": {
     "name": "#%%\n"
    }
   }
  },
  {
   "cell_type": "code",
   "execution_count": null,
   "outputs": [],
   "source": [
    "result = seasonal_decompose(df_last_month['silver'], model='multiplicative')\n",
    "seasonal_decompose_plot(result, 'серебро')"
   ],
   "metadata": {
    "collapsed": false,
    "pycharm": {
     "name": "#%%\n"
    }
   }
  },
  {
   "cell_type": "code",
   "execution_count": null,
   "outputs": [],
   "source": [
    "result = seasonal_decompose(df_last_month['gold'], model='multiplicative')\n",
    "seasonal_decompose_plot(result, 'золото')"
   ],
   "metadata": {
    "collapsed": false,
    "pycharm": {
     "name": "#%%\n"
    }
   }
  },
  {
   "cell_type": "code",
   "execution_count": null,
   "outputs": [],
   "source": [],
   "metadata": {
    "collapsed": false,
    "pycharm": {
     "name": "#%%\n"
    }
   }
  },
  {
   "cell_type": "code",
   "execution_count": null,
   "outputs": [],
   "source": [
    "# # золото и серебро\n",
    "\n",
    "# # x = df['date']\n",
    "# y1 = df['gold']\n",
    "# y2 = df['silver']\n",
    "\n",
    "# # Plot Line1 (Left Y Axis)\n",
    "# fig, ax1 = plt.subplots(1,1,figsize=(16,9), dpi= 80)\n",
    "# # ax1.plot(x, y1, color='tab:red')\n",
    "# ax1.plot(y1, color='tab:red')\n",
    "\n",
    "# # Plot Line2 (Right Y Axis)\n",
    "# ax2 = ax1.twinx()  # instantiate a second axes that shares the same x-axis\n",
    "# # ax2.plot(x, y2, color='tab:blue')\n",
    "# ax2.plot(y2, color='tab:blue')\n",
    "\n",
    "# # Decorations\n",
    "# # ax1 (left Y axis)\n",
    "# ax1.set_xlabel('Месяцы', fontsize=20)\n",
    "# # ax1.tick_params(axis='x', rotation=0, labelsize=12)\n",
    "# ax1.set_ylabel('Цены на золото', color='tab:red', fontsize=20)\n",
    "# ax1.tick_params(axis='y', rotation=0, labelcolor='tab:red' )\n",
    "# ax1.grid(alpha=.4)\n",
    "\n",
    "# # ax2 (right Y axis)\n",
    "# ax2.set_ylabel(\"Цены на серебро\", color='tab:blue', fontsize=20)\n",
    "# ax2.tick_params(axis='y', labelcolor='tab:blue')\n",
    "# # ax2.set_xticks(np.arange(0, len(x), 60))\n",
    "# # ax2.set_xticklabels(x[::60], rotation=90, fontdict={'fontsize':10})\n",
    "# ax2.set_title(\"Сравнение динамики цен на золото и серебро\", fontsize=22)\n",
    "# fig.tight_layout()\n",
    "# plt.show()"
   ],
   "metadata": {
    "collapsed": false,
    "pycharm": {
     "name": "#%%\n"
    }
   }
  },
  {
   "cell_type": "code",
   "execution_count": null,
   "outputs": [],
   "source": [
    "# y1 = df['gold']\n",
    "# y2 = df['silver']"
   ],
   "metadata": {
    "collapsed": false,
    "pycharm": {
     "name": "#%%\n"
    }
   }
  },
  {
   "cell_type": "code",
   "execution_count": null,
   "outputs": [],
   "source": [
    "# Create figure with secondary y-axis\n",
    "fig = make_subplots(specs=[[{\"secondary_y\": True}]])\n",
    "\n",
    "# Add traces\n",
    "\n",
    "fig.add_trace(\n",
    "    go.Scatter(x=df.index, \n",
    "               y=df.gold, \n",
    "               name=\"Золото\",\n",
    "               line=dict(color='#f5c541')\n",
    "              ),\n",
    "    secondary_y=False,\n",
    ")\n",
    "\n",
    "fig.add_trace(\n",
    "    go.Scatter(x=df.index, \n",
    "               y=df.silver, \n",
    "               name=\"Серебро\",\n",
    "               line=dict(color='#1167b1')\n",
    "              ),\n",
    "    secondary_y=True,\n",
    ")\n",
    "\n",
    "# Add figure title\n",
    "fig.update_layout(\n",
    "    plot_bgcolor='rgba(0,0,0,0)',\n",
    "    title_text=\"Сравнение динамики цен на золото и серебро (2018 - 2020 год)\",\n",
    "    title_x = 0.47,\n",
    "    width=1024,\n",
    "    height=600,\n",
    "    legend=dict(x=.45, \n",
    "                xanchor=\"center\", \n",
    "                orientation=\"h\")\n",
    ")\n",
    "\n",
    "# Set x-axis title\n",
    "fig.update_xaxes(title_text=\"<b>Месяцы</b>\",\n",
    "                 gridcolor='lightblue')\n",
    "\n",
    "# Set y-axes titles\n",
    "fig.update_yaxes(title_text=\"<b>Золото</b> (р./грамм)\", \n",
    "                 secondary_y=False,\n",
    "#                  gridcolor='#f5c541'\n",
    "                )\n",
    "fig.update_yaxes(title_text=\"<b>Серебро</b> (р./грамм)\", \n",
    "                 secondary_y=True,\n",
    "#                  gridcolor='#1167b1'\n",
    "                )\n",
    "\n",
    "fig.show()"
   ],
   "metadata": {
    "collapsed": false,
    "pycharm": {
     "name": "#%%\n"
    }
   }
  },
  {
   "cell_type": "code",
   "execution_count": null,
   "outputs": [],
   "source": [
    "# разбить внизу график на 3 года:\n",
    "# https://community.plotly.com/t/multiple-x-axes-with-different-ticks-depending-on-zoom-level/38634"
   ],
   "metadata": {
    "collapsed": false,
    "pycharm": {
     "name": "#%%\n"
    }
   }
  },
  {
   "cell_type": "code",
   "execution_count": null,
   "outputs": [],
   "source": [],
   "metadata": {
    "collapsed": false,
    "pycharm": {
     "name": "#%%\n"
    }
   }
  },
  {
   "cell_type": "code",
   "execution_count": null,
   "outputs": [],
   "source": [],
   "metadata": {
    "collapsed": false,
    "pycharm": {
     "name": "#%%\n"
    }
   }
  },
  {
   "cell_type": "code",
   "execution_count": null,
   "outputs": [],
   "source": [],
   "metadata": {
    "collapsed": false,
    "pycharm": {
     "name": "#%%\n"
    }
   }
  },
  {
   "cell_type": "code",
   "execution_count": null,
   "outputs": [],
   "source": [
    "sell_silver = pd.DataFrame({'y': ['2018-01-01', '2019-01-01', '2020-01-01'], \n",
    "                          'Тираж': [150000, 100000, 300000],\n",
    "                          'Реализовано': [47902, 64425, 174338]})\n",
    "sell_silver['y'] = pd.to_datetime(sell_silver['y'],\n",
    "                                  format = '%Y-%m-%d')\n",
    "sell_silver['y'] = sell_silver['y'].dt.year\n",
    "sell_silver = sell_silver.set_index('y')\n",
    "sell_silver.head()"
   ],
   "metadata": {
    "collapsed": false,
    "pycharm": {
     "name": "#%%\n"
    }
   }
  },
  {
   "cell_type": "code",
   "execution_count": null,
   "outputs": [],
   "source": [
    "sell_gold = pd.DataFrame({'y': ['2018-01-01', '2019-01-01', '2020-01-01'], \n",
    "                          'Тираж': [150000, 300000, 500000],\n",
    "                          'Реализовано': [93367, 210172, 424876]})\n",
    "sell_gold['y'] = pd.to_datetime(sell_gold['y'],\n",
    "                                  format = '%Y-%m-%d')\n",
    "sell_gold['y'] = sell_gold['y'].dt.year\n",
    "sell_gold = sell_gold.set_index('y')\n",
    "sell_gold.head()"
   ],
   "metadata": {
    "collapsed": false,
    "pycharm": {
     "name": "#%%\n"
    }
   }
  },
  {
   "cell_type": "code",
   "execution_count": null,
   "outputs": [],
   "source": [
    "# test\n",
    "#  metall + sell\n",
    "\n",
    "# Create figure with secondary y-axis\n",
    "fig = make_subplots(specs=[[{\"secondary_y\": True}]])\n",
    "\n",
    "# \n",
    "\n",
    "data = [\n",
    "# scatter-line\n",
    "    go.Scatter(x=df.index, \n",
    "               y=df.silver, \n",
    "               name=\"Золото\",\n",
    "               line=dict(color='#f5c541')\n",
    "              ),\n",
    "    \n",
    "    go.Bar(x=df.index, # assign x as the dataframe column 'x'\n",
    "           y=sell_silver['Тираж'],\n",
    "           name = 'Тираж'\n",
    "          ),\n",
    "    \n",
    "    go.Bar(x=df.index, # assign x as the dataframe column 'x'\n",
    "           y=sell_silver['Реализовано'],\n",
    "           name = 'Реализовано'\n",
    "          )\n",
    "]\n",
    "\n",
    "for i in data:\n",
    "    fig.append_trace(i)\n",
    "\n",
    "\n",
    "# Add figure title\n",
    "fig.update_layout(\n",
    "    barmode='group',\n",
    "    plot_bgcolor='rgba(0,0,0,0)',\n",
    "    title_text=\"Серебро (2018 - 2020 год)\",\n",
    "    title_x = 0.47,\n",
    "    width=1024,\n",
    "    height=600,\n",
    "    legend=dict(x=.45, \n",
    "                xanchor=\"center\", \n",
    "                orientation=\"h\")\n",
    ")\n",
    "\n",
    "# Set x-axis title\n",
    "fig.update_xaxes(title_text=\"<b>Годы</b>\",\n",
    "                 gridcolor='lightblue')\n",
    "\n",
    "# Set y-axes titles\n",
    "fig.update_yaxes(title_text=\"<b>Цена на серебро</b> (р./грамм)\", \n",
    "                 secondary_y=False,\n",
    "#                  gridcolor='#f5c541'\n",
    "                )\n",
    "fig.update_yaxes(title_text=\"<b>Шт.</b>\", \n",
    "                 secondary_y=True,\n",
    "                 gridcolor='#1167b1'\n",
    "                )\n",
    "fig.update_yaxes(title_text=\"<b>Шт.</b>\", \n",
    "                 secondary_y=True,\n",
    "                 gridcolor='#1167b1'\n",
    "                )\n",
    "\n",
    "fig.show()"
   ],
   "metadata": {
    "collapsed": false,
    "pycharm": {
     "name": "#%%\n"
    }
   }
  },
  {
   "cell_type": "code",
   "execution_count": null,
   "outputs": [],
   "source": [
    "'''\n",
    "ПГ\n",
    "\n",
    "\n",
    "Паш, под этой ячейкой пример того, что я бы хотел изобразить:\n",
    "линия и барплоты.\n",
    "\n",
    "Идея в том, чтобы протянуть линию по стоимости металла за три года и наложить \"изготовлено / продано\"\n",
    "\n",
    "как я понимаю, проблема в том, что металл у меня - цена на каждый день, а \"изготовлено / продано\" - суммарно по годам.\n",
    "\n",
    "Посмотри, пожалуйта, код из примера ниже можно ли как-то переложить, чтобыон решил задачу\n",
    "\n",
    "'''\n",
    "\n",
    "\n"
   ],
   "metadata": {
    "collapsed": false,
    "pycharm": {
     "name": "#%%\n"
    }
   }
  },
  {
   "cell_type": "code",
   "execution_count": null,
   "outputs": [],
   "source": [
    "fig = make_subplots(specs=[[{\"secondary_y\": True}]])#this a one cell subplot\n",
    "\n",
    "x = ['Shenzen', 'Australian Open', 'Fed Cup', 'Dubai', 'Indiana Wells', 'Miami', \n",
    "                  'Stuttgart', 'Madrid', 'Rome', 'French Open', 'Birmingham', 'Wimbledon', \n",
    "                  'Toronto', 'Cincinnati', 'US Open', 'Guangzhou', 'Wuhan', 'Beijing', 'WTA Finals'] \n",
    "y = [280, 430, 0, 900, 1000, 390, 185, 10, 350, 70, 100, 10, 585, 585, 780, 60, 105, 10, 370]\n",
    "yy = [280, 710, 710, 1610, 2610, 3000, 3185, 3195, 3545, 3615, 3715, 3725, 4310, 4895, 5675,\n",
    "                       5735, 5840, 5850, 6220]\n",
    "\n",
    "\n",
    "trace1 = go.Bar(x=x,\n",
    "                y=y,\n",
    "                name='Points',            \n",
    "                marker=dict(color= 'rgba(220,49,72, 0.8)', \n",
    "                            line= dict(width= 1)))\n",
    " \n",
    "\n",
    "trace2 = go.Scatter(x=x, \n",
    "                    y=yy, \n",
    "                    marker= dict(line= dict(width= 1), \n",
    "                           size= 8), \n",
    "                    line=dict(color= '#B0122C', width= 1.5),\n",
    "                    name= 'Accumulated pts')\n",
    "\n",
    "#The first trace is referenced to the default xaxis, yaxis (ie. xaxis='x1', yaxis='y1')\n",
    "fig.add_trace(trace1, secondary_y=False);\n",
    "\n",
    "#The second trace is referenced to xaxis='x1'(i.e. 'x1' is common for the two traces) \n",
    "#and yaxis='y2' (the right side yaxis)\n",
    "\n",
    "fig.add_trace(trace2, secondary_y=True);\n",
    "fig.update_layout(autosize= False, \n",
    "                  width= 700, \n",
    "                  height= 500, \n",
    "                  legend= dict(x=1.15, \n",
    "                               y=1),\n",
    "                  hovermode='x');\n",
    "fig.update_xaxes(tickangle= -45, \n",
    "                 autorange=True,\n",
    "                 tickfont=dict(size= 10), \n",
    "                 title= 'Tournaments', \n",
    "                 type= 'category');\n",
    "\n",
    "fig.update_yaxes(range= [0, 1050], #left yaxis\n",
    "                 title= 'Points', secondary_y=False);\n",
    "fig.update_yaxes(range= [250, 6300],#right yaxis\n",
    "                 showgrid= False, \n",
    "                 title= 'Cumulative sum of points',\n",
    "                 secondary_y=True);\n",
    "fig.show()\n",
    "# from chart_studio.plotly import  iplot\n",
    "# iplot(fig, filename='Example-Forum')"
   ],
   "metadata": {
    "collapsed": false,
    "pycharm": {
     "name": "#%%\n"
    }
   }
  },
  {
   "cell_type": "code",
   "execution_count": null,
   "outputs": [],
   "source": [
    "fig = make_subplots(specs=[[{\"secondary_y\": True}]])#this a one cell subplot\n",
    "\n",
    "x = sell_gold.index\n",
    "y = df.gold\n",
    "yy = sell_gold['Тираж']\n",
    "\n",
    "\n",
    "trace1 = go.Scatter(x=x, \n",
    "                    y=y, \n",
    "                    marker= dict(line= dict(width= 1), \n",
    "                           size= 8), \n",
    "                    line=dict(color= '#B0122C', width= 1.5),\n",
    "                    name= 'Accumulated pts')\n",
    "\n",
    "\n",
    "trace2 = go.Bar(x=x,\n",
    "                y=yy,\n",
    "                name='Золото',            \n",
    "                marker=dict(color= 'rgba(220,49,72, 0.8)', \n",
    "                            line= dict(width= 1)))\n",
    " \n",
    "\n",
    "\n",
    "\n",
    "#The first trace is referenced to the default xaxis, yaxis (ie. xaxis='x1', yaxis='y1')\n",
    "fig.add_trace(trace1, secondary_y=False);\n",
    "\n",
    "#The second trace is referenced to xaxis='x1'(i.e. 'x1' is common for the two traces) \n",
    "#and yaxis='y2' (the right side yaxis)\n",
    "\n",
    "fig.add_trace(trace2, secondary_y=True);\n",
    "\n",
    "\n",
    "\n",
    "fig.update_layout(autosize= False, \n",
    "                  width= 700, \n",
    "                  height= 500, \n",
    "                  legend= dict(x=1.15, \n",
    "                               y=1),\n",
    "                  hovermode='x');\n",
    "fig.update_xaxes(tickangle= -45, \n",
    "                 autorange=True,\n",
    "                 tickfont=dict(size= 10), \n",
    "                 title= 'Tournaments', \n",
    "                 type= 'category');\n",
    "\n",
    "fig.update_yaxes(\n",
    "#     range= [0, 1050], #left yaxis\n",
    "    title= 'Points', secondary_y=False);\n",
    "fig.update_yaxes(\n",
    "#     range= [250, 6300],#right yaxis\n",
    "    showgrid= False, \n",
    "    title= 'Cumulative sum of points',\n",
    "    secondary_y=True);\n",
    "fig.show()\n",
    "# from chart_studio.plotly import  iplot\n",
    "# iplot(fig, filename='Example-Forum')"
   ],
   "metadata": {
    "collapsed": false,
    "pycharm": {
     "name": "#%%\n"
    }
   }
  },
  {
   "cell_type": "code",
   "execution_count": null,
   "outputs": [],
   "source": [],
   "metadata": {
    "collapsed": false,
    "pycharm": {
     "name": "#%%\n"
    }
   }
  },
  {
   "cell_type": "code",
   "execution_count": null,
   "outputs": [],
   "source": [],
   "metadata": {
    "collapsed": false,
    "pycharm": {
     "name": "#%%\n"
    }
   }
  },
  {
   "cell_type": "code",
   "execution_count": null,
   "outputs": [],
   "source": [],
   "metadata": {
    "collapsed": false,
    "pycharm": {
     "name": "#%%\n"
    }
   }
  },
  {
   "cell_type": "code",
   "execution_count": null,
   "outputs": [],
   "source": [],
   "metadata": {
    "collapsed": false,
    "pycharm": {
     "name": "#%%\n"
    }
   }
  },
  {
   "cell_type": "code",
   "execution_count": null,
   "outputs": [],
   "source": [],
   "metadata": {
    "collapsed": false,
    "pycharm": {
     "name": "#%%\n"
    }
   }
  },
  {
   "cell_type": "code",
   "execution_count": null,
   "outputs": [],
   "source": [],
   "metadata": {
    "collapsed": false,
    "pycharm": {
     "name": "#%%\n"
    }
   }
  },
  {
   "cell_type": "code",
   "execution_count": null,
   "outputs": [],
   "source": [],
   "metadata": {
    "collapsed": false,
    "pycharm": {
     "name": "#%%\n"
    }
   }
  },
  {
   "cell_type": "code",
   "execution_count": null,
   "outputs": [],
   "source": [],
   "metadata": {
    "collapsed": false,
    "pycharm": {
     "name": "#%%\n"
    }
   }
  },
  {
   "cell_type": "code",
   "execution_count": null,
   "outputs": [],
   "source": [],
   "metadata": {
    "collapsed": false,
    "pycharm": {
     "name": "#%%\n"
    }
   }
  },
  {
   "cell_type": "code",
   "execution_count": null,
   "outputs": [],
   "source": [],
   "metadata": {
    "collapsed": false,
    "pycharm": {
     "name": "#%%\n"
    }
   }
  },
  {
   "cell_type": "code",
   "execution_count": null,
   "outputs": [],
   "source": [],
   "metadata": {
    "collapsed": false,
    "pycharm": {
     "name": "#%%\n"
    }
   }
  },
  {
   "cell_type": "code",
   "execution_count": null,
   "outputs": [],
   "source": [],
   "metadata": {
    "collapsed": false,
    "pycharm": {
     "name": "#%%\n"
    }
   }
  },
  {
   "cell_type": "code",
   "execution_count": null,
   "outputs": [],
   "source": [],
   "metadata": {
    "collapsed": false,
    "pycharm": {
     "name": "#%%\n"
    }
   }
  },
  {
   "cell_type": "code",
   "execution_count": null,
   "outputs": [],
   "source": [],
   "metadata": {
    "collapsed": false,
    "pycharm": {
     "name": "#%%\n"
    }
   }
  },
  {
   "cell_type": "code",
   "execution_count": null,
   "outputs": [],
   "source": [],
   "metadata": {
    "collapsed": false,
    "pycharm": {
     "name": "#%%\n"
    }
   }
  },
  {
   "cell_type": "code",
   "execution_count": null,
   "outputs": [],
   "source": [],
   "metadata": {
    "collapsed": false,
    "pycharm": {
     "name": "#%%\n"
    }
   }
  },
  {
   "cell_type": "code",
   "execution_count": null,
   "outputs": [],
   "source": [],
   "metadata": {
    "collapsed": false,
    "pycharm": {
     "name": "#%%\n"
    }
   }
  },
  {
   "cell_type": "code",
   "execution_count": null,
   "outputs": [],
   "source": [],
   "metadata": {
    "collapsed": false,
    "pycharm": {
     "name": "#%%\n"
    }
   }
  },
  {
   "cell_type": "code",
   "execution_count": null,
   "outputs": [],
   "source": [
    "#\n",
    "# 1. перестроить на 2018-2020\n"
   ],
   "metadata": {
    "collapsed": false,
    "pycharm": {
     "name": "#%%\n"
    }
   }
  },
  {
   "cell_type": "code",
   "execution_count": null,
   "outputs": [],
   "source": [
    "# сравнения по месяцам"
   ],
   "metadata": {
    "collapsed": false,
    "pycharm": {
     "name": "#%%\n"
    }
   }
  },
  {
   "cell_type": "code",
   "execution_count": null,
   "outputs": [],
   "source": [
    "df.info()"
   ],
   "metadata": {
    "collapsed": false,
    "pycharm": {
     "name": "#%%\n"
    }
   }
  },
  {
   "cell_type": "code",
   "execution_count": null,
   "outputs": [],
   "source": [
    "# months = list(set(list(df.month)))\n",
    "# months\n",
    "# df[df[\"month\"]>=1]"
   ],
   "metadata": {
    "collapsed": false,
    "pycharm": {
     "name": "#%%\n"
    }
   }
  },
  {
   "cell_type": "code",
   "execution_count": null,
   "outputs": [],
   "source": [
    "# def plot_month_plotly(df, metall):\n",
    "#     months = list(set(list(df.month)))\n",
    "#     data = []\n",
    "#     df = df[df[\"month\"]>=1]\n",
    "#     for month in months:\n",
    "#         monthdf = df[df[\"month\"] == month]\n",
    "#         trace = go.Scatter(\n",
    "#             x = monthdf['month'],\n",
    "#             y = monthdf[metall],\n",
    "#             mode = 'lines',\n",
    "#             name = month\n",
    "#         )\n",
    "#         colorscale='Jet',\n",
    "#         data.append(trace)\n",
    "# #    iplot(data, filename='line-mode')\n",
    "    \n",
    "    \n",
    "#         layout = go.Layout(\n",
    "#         title = 'Сравнение месяц к месяцу (2020)'\n",
    "#     )\n",
    "\n",
    "#     fig = go.Figure(data=data, layout=layout)\n",
    "#     iplot(fig, filename='line-mode')"
   ],
   "metadata": {
    "collapsed": false,
    "pycharm": {
     "name": "#%%\n"
    }
   }
  },
  {
   "cell_type": "code",
   "execution_count": null,
   "outputs": [],
   "source": [
    "df2020.columns"
   ],
   "metadata": {
    "collapsed": false,
    "pycharm": {
     "name": "#%%\n"
    }
   }
  },
  {
   "cell_type": "code",
   "execution_count": null,
   "outputs": [],
   "source": [],
   "metadata": {
    "collapsed": false,
    "pycharm": {
     "name": "#%%\n"
    }
   }
  },
  {
   "cell_type": "code",
   "execution_count": null,
   "outputs": [],
   "source": [],
   "metadata": {
    "collapsed": false,
    "pycharm": {
     "name": "#%%\n"
    }
   }
  },
  {
   "cell_type": "code",
   "execution_count": null,
   "outputs": [],
   "source": [],
   "metadata": {
    "collapsed": false,
    "pycharm": {
     "name": "#%%\n"
    }
   }
  },
  {
   "cell_type": "code",
   "execution_count": null,
   "outputs": [],
   "source": [
    "def plot_month_plotly(df, metall):\n",
    "    pv_test = pd.pivot_table(df,\n",
    "                        index=[\"day\"],\n",
    "                        columns=[\"month\"],\n",
    "                        values=[metall])\n",
    "\n",
    "    pv_test.columns = [col[1] for col in pv_test.columns]\n",
    "\n",
    "    data = [go.Scatter(x = pv_test.index,\n",
    "                       y = pv_test[col],\n",
    "                       name = col)\n",
    "            for col in pv_test.columns]\n",
    "\n",
    "    iplot(data)"
   ],
   "metadata": {
    "collapsed": false,
    "pycharm": {
     "name": "#%%\n"
    }
   }
  },
  {
   "cell_type": "code",
   "execution_count": null,
   "outputs": [],
   "source": [
    "plot_month_plotly(df2020, 'gold')"
   ],
   "metadata": {
    "collapsed": false,
    "pycharm": {
     "name": "#%%\n"
    }
   }
  },
  {
   "cell_type": "code",
   "execution_count": null,
   "outputs": [],
   "source": [
    "plot_month_plotly(df2020, 'silver')"
   ],
   "metadata": {
    "collapsed": false,
    "pycharm": {
     "name": "#%%\n"
    }
   }
  },
  {
   "cell_type": "code",
   "execution_count": null,
   "outputs": [],
   "source": [
    "invest_3_years = pd.DataFrame({'y': [2018, 2019, 2020], \n",
    "                               'Золото': [150000, 300000, 500000],\n",
    "                              'Серебро': [150000, 100000, 300000]})\n",
    "invest_3_years = invest_3_years.set_index('y')\n",
    "invest_3_years"
   ],
   "metadata": {
    "collapsed": false,
    "pycharm": {
     "name": "#%%\n"
    }
   }
  },
  {
   "cell_type": "code",
   "execution_count": null,
   "outputs": [],
   "source": [
    "invest_3_years.index.unique()"
   ],
   "metadata": {
    "collapsed": false,
    "pycharm": {
     "name": "#%%\n"
    }
   }
  },
  {
   "cell_type": "code",
   "execution_count": null,
   "outputs": [],
   "source": [
    "for i in invest_3_years.index.unique():\n",
    "    print(invest_3_years[invest_3_years.index == i])"
   ],
   "metadata": {
    "collapsed": false,
    "pycharm": {
     "name": "#%%\n"
    }
   }
  },
  {
   "cell_type": "code",
   "execution_count": null,
   "outputs": [],
   "source": [
    "list(invest_3_years.columns)"
   ],
   "metadata": {
    "collapsed": false,
    "pycharm": {
     "name": "#%%\n"
    }
   }
  },
  {
   "cell_type": "code",
   "execution_count": null,
   "outputs": [],
   "source": [
    "for i in invest_3_years.index.unique():\n",
    "    labels = list(invest_3_years.columns)\n",
    "    values = invest_3_years[invest_3_years.index == i].values[0]\n",
    "    print(labels, values)"
   ],
   "metadata": {
    "collapsed": false,
    "pycharm": {
     "name": "#%%\n"
    }
   }
  },
  {
   "cell_type": "code",
   "execution_count": null,
   "outputs": [],
   "source": [
    "metall_colors = ['#f5c541','#1167b1']\n",
    "\n",
    "for i in invest_3_years.index.unique():\n",
    "    labels = list(invest_3_years.columns)\n",
    "    values = invest_3_years[invest_3_years.index == i].values[0]\n",
    "    fig = go.Figure([go.Pie(labels=labels, \n",
    "                            values=values, \n",
    "                            hole=.3,\n",
    "                            marker_colors=metall_colors,\n",
    "                            textinfo='label+percent')])\n",
    "    fig.update_layout(title_text='Соотношение золотых / серебряных инвестиционных монет в шт., '+str(i)+' год',\n",
    "                      title_x = 0.5,\n",
    "                      showlegend=False)\n",
    "    fig.show()"
   ],
   "metadata": {
    "collapsed": false,
    "pycharm": {
     "name": "#%%\n"
    }
   }
  },
  {
   "cell_type": "code",
   "execution_count": null,
   "outputs": [],
   "source": [
    "\n",
    "\n",
    "\n",
    "\n",
    "\n",
    "# for i in invest_3_years.index.unique():\n",
    "#     go.Pie(labels=invest_3_years.columns, values=invest_3_years[invest_3_years.index == i])\n",
    "#     fig = go.Figure(\n",
    "#         go.Pie(labels=invest_3_years.columns, values=invest_3_years[invest_3_years.index == i])\n",
    "#     )\n",
    "#     fig.show()"
   ],
   "metadata": {
    "collapsed": false,
    "pycharm": {
     "name": "#%%\n"
    }
   }
  },
  {
   "cell_type": "code",
   "execution_count": null,
   "outputs": [],
   "source": [
    "# график сезонов\n",
    "# def metall_trend_monthly(metall, tit):\n",
    "#     mycolors = ['tab:red', 'tab:blue', 'tab:green', 'tab:orange', 'tab:brown', 'tab:grey', 'tab:pink', 'tab:olive', 'deeppink', 'steelblue']\n",
    "#     months = ['январь','февраль','март','апрель','май','июнь','июль','август','сентябрь','октябрь']\n",
    "#     plt.figure(figsize=(16,10), dpi= 80)\n",
    "#     plt.suptitle('Сравнение месячных трендов за 2020 год', fontsize=15)\n",
    "#     plt.title(str(tit))\n",
    "#     plt.xlabel('День месяца', fontsize=14)\n",
    "#     plt.ylabel('Цена', fontsize=14)\n",
    "#     lines = []\n",
    "#     for i, y in enumerate(df[metall].groupby(pd.Grouper(freq='M'))):\n",
    "#         p,=plt.plot(range(len(y[1])),y[1], color=mycolors[i], label=months[i])\n",
    "#         lines.append(p)\n",
    "#     plt.legend(handles=lines)"
   ],
   "metadata": {
    "collapsed": false,
    "pycharm": {
     "name": "#%%\n"
    }
   }
  },
  {
   "cell_type": "code",
   "execution_count": null,
   "outputs": [],
   "source": [
    "# metall_trend_monthly('silver', 'Серебро')"
   ],
   "metadata": {
    "collapsed": false,
    "pycharm": {
     "name": "#%%\n"
    }
   }
  },
  {
   "cell_type": "code",
   "execution_count": null,
   "outputs": [],
   "source": [
    "# metall_trend_monthly('gold', 'Золото')"
   ],
   "metadata": {
    "collapsed": false,
    "pycharm": {
     "name": "#%%\n"
    }
   }
  },
  {
   "cell_type": "code",
   "execution_count": null,
   "outputs": [],
   "source": [],
   "metadata": {
    "collapsed": false,
    "pycharm": {
     "name": "#%%\n"
    }
   }
  },
  {
   "cell_type": "code",
   "execution_count": null,
   "outputs": [],
   "source": [
    "# from datetime import date"
   ],
   "metadata": {
    "collapsed": false,
    "pycharm": {
     "name": "#%%\n"
    }
   }
  },
  {
   "cell_type": "code",
   "execution_count": null,
   "outputs": [],
   "source": [
    "# allbanks = pd.read_csv('docs/allbanks.csv', \n",
    "#                        encoding='cp1251', \n",
    "#                        sep=';', \n",
    "#                        index_col=0)\n",
    "# allcoins = pd.read_csv('docs/allcoins.csv', \n",
    "#                        encoding='cp1251', \n",
    "#                        sep=';', \n",
    "#                        index_col=0)\n",
    "# prices = pd.read_csv('docs/prices.csv', \n",
    "#                      encoding='cp1251', \n",
    "#                      sep=';')"
   ],
   "metadata": {
    "collapsed": false,
    "pycharm": {
     "name": "#%%\n"
    }
   }
  },
  {
   "cell_type": "code",
   "execution_count": null,
   "outputs": [],
   "source": [
    "# allbanks.head()"
   ],
   "metadata": {
    "collapsed": false,
    "pycharm": {
     "name": "#%%\n"
    }
   }
  },
  {
   "cell_type": "code",
   "execution_count": null,
   "outputs": [],
   "source": [
    "# allcoins.head()"
   ],
   "metadata": {
    "collapsed": false,
    "pycharm": {
     "name": "#%%\n"
    }
   }
  },
  {
   "cell_type": "code",
   "execution_count": null,
   "outputs": [],
   "source": [
    "# allcoins.DT = pd.to_datetime(allcoins.DT, unit='s').dt.date\n",
    "# allcoins.head()"
   ],
   "metadata": {
    "collapsed": false,
    "pycharm": {
     "name": "#%%\n"
    }
   }
  },
  {
   "cell_type": "code",
   "execution_count": null,
   "outputs": [],
   "source": [
    "# prices.head()"
   ],
   "metadata": {
    "collapsed": false,
    "pycharm": {
     "name": "#%%\n"
    }
   }
  },
  {
   "cell_type": "code",
   "execution_count": null,
   "outputs": [],
   "source": [
    "# prices.date = pd.to_datetime(prices.date, unit='s').dt.date\n",
    "# prices.head()"
   ],
   "metadata": {
    "collapsed": false,
    "pycharm": {
     "name": "#%%\n"
    }
   }
  },
  {
   "cell_type": "code",
   "execution_count": null,
   "outputs": [],
   "source": [
    "# result_df = prices.merge(allcoins, left_on = 'id_coin', right_index=True)\n",
    "# result_df.head()"
   ],
   "metadata": {
    "collapsed": false,
    "pycharm": {
     "name": "#%%\n"
    }
   }
  },
  {
   "cell_type": "code",
   "execution_count": null,
   "outputs": [],
   "source": [
    "# result_df = result_df.merge(allbanks, left_on = 'id_bank', right_index=True)\n",
    "# result_df.head()"
   ],
   "metadata": {
    "collapsed": false,
    "pycharm": {
     "name": "#%%\n"
    }
   }
  },
  {
   "cell_type": "code",
   "execution_count": null,
   "outputs": [],
   "source": [
    "# visualization"
   ],
   "metadata": {
    "collapsed": false,
    "pycharm": {
     "name": "#%%\n"
    }
   }
  },
  {
   "cell_type": "code",
   "execution_count": null,
   "outputs": [],
   "source": [],
   "metadata": {
    "collapsed": false,
    "pycharm": {
     "name": "#%%\n"
    }
   }
  },
  {
   "cell_type": "code",
   "execution_count": null,
   "outputs": [],
   "source": [
    "# allcoins['metal'].unique()"
   ],
   "metadata": {
    "collapsed": false,
    "pycharm": {
     "name": "#%%\n"
    }
   }
  },
  {
   "cell_type": "code",
   "execution_count": null,
   "outputs": [],
   "source": [],
   "metadata": {
    "collapsed": false,
    "pycharm": {
     "name": "#%%\n"
    }
   }
  },
  {
   "cell_type": "code",
   "execution_count": null,
   "outputs": [],
   "source": [
    "# nedrag_list = ['Медно-никелевый сплав',\n",
    "#                'Сталь с латунным/никелевым гальваническим покрытием',\n",
    "#                'Сталь с латунным гальваническим покрытием', \n",
    "#                'Латунь/Мельхиор',\n",
    "#                'Сталь с никелевым гальваническим покрытием', \n",
    "#                'Мельхиор',\n",
    "#                'Нейзильбер', \n",
    "#                'Медь, никель', \n",
    "#                'Латунь',\n",
    "#                'Латунь/Медь, никель', \n",
    "#                'Нейзильбер/Латунь',\n",
    "#                'Медь, цинк/Медь, никель']"
   ],
   "metadata": {
    "collapsed": false,
    "pycharm": {
     "name": "#%%\n"
    }
   }
  },
  {
   "cell_type": "code",
   "execution_count": null,
   "outputs": [],
   "source": [
    "# gold_list = ['Au-999',\n",
    "#              'Au-900']"
   ],
   "metadata": {
    "collapsed": false,
    "pycharm": {
     "name": "#%%\n"
    }
   }
  },
  {
   "cell_type": "code",
   "execution_count": null,
   "outputs": [],
   "source": [
    "# silver_list = ['Ag-925', \n",
    "#                'Ag-999', \n",
    "#                'Ag-900', \n",
    "#                'Ag-500']"
   ],
   "metadata": {
    "collapsed": false,
    "pycharm": {
     "name": "#%%\n"
    }
   }
  },
  {
   "cell_type": "code",
   "execution_count": null,
   "outputs": [],
   "source": [
    "# combine_metal_list = ['Ag-900/Au-900', \n",
    "#                       'Ag-925/Au-999', \n",
    "#                       'Ag-925/позолота', \n",
    "#                       'Pd-999', \n",
    "#                       'Pt-999', \n",
    "#                       'AU-900/Ag-925', \n",
    "#                       'Ag-925/Au-999', \n",
    "#                       'Ag-900/Au-900', \n",
    "#                       'Au-900/Ag-900']"
   ],
   "metadata": {
    "collapsed": false,
    "pycharm": {
     "name": "#%%\n"
    }
   }
  },
  {
   "cell_type": "code",
   "execution_count": null,
   "outputs": [],
   "source": [],
   "metadata": {
    "collapsed": false,
    "pycharm": {
     "name": "#%%\n"
    }
   }
  },
  {
   "cell_type": "code",
   "execution_count": null,
   "outputs": [],
   "source": [
    "# allcoins_gold = allcoins[allcoins['metal'].isin(gold_list)]\n",
    "# allcoins_gold.metal.unique()"
   ],
   "metadata": {
    "collapsed": false,
    "pycharm": {
     "name": "#%%\n"
    }
   }
  },
  {
   "cell_type": "code",
   "execution_count": null,
   "outputs": [],
   "source": [
    "# allcoins_silver = allcoins[allcoins['metal'].isin(silver_list)]\n",
    "# allcoins_silver.metal.unique()"
   ],
   "metadata": {
    "collapsed": false,
    "pycharm": {
     "name": "#%%\n"
    }
   }
  },
  {
   "cell_type": "code",
   "execution_count": null,
   "outputs": [],
   "source": [
    "# allcoins_nedrag = allcoins[allcoins['metal'].isin(nedrag_list)]\n",
    "# allcoins_nedrag.metal.unique()"
   ],
   "metadata": {
    "collapsed": false,
    "pycharm": {
     "name": "#%%\n"
    }
   }
  },
  {
   "cell_type": "code",
   "execution_count": null,
   "outputs": [],
   "source": [
    "# allcoins_combine = allcoins[allcoins['metal'].isin(combine_metal_list)]\n",
    "# allcoins_combine.metal.unique()"
   ],
   "metadata": {
    "collapsed": false,
    "pycharm": {
     "name": "#%%\n"
    }
   }
  },
  {
   "cell_type": "code",
   "execution_count": null,
   "outputs": [],
   "source": [
    "# startdate = pd.to_datetime(\"2017-01-01\").date()"
   ],
   "metadata": {
    "collapsed": false,
    "pycharm": {
     "name": "#%%\n"
    }
   }
  },
  {
   "cell_type": "code",
   "execution_count": null,
   "outputs": [],
   "source": [
    "# allcoins_gold_3_years = allcoins_gold[allcoins_gold['DT'] >= startdate]\n",
    "# allcoins_gold_3_years.head()"
   ],
   "metadata": {
    "collapsed": false,
    "pycharm": {
     "name": "#%%\n"
    }
   }
  },
  {
   "cell_type": "code",
   "execution_count": null,
   "outputs": [],
   "source": [
    "# allcoins_silver_3_years = allcoins_silver[allcoins_silver['DT'] >= startdate]\n",
    "# allcoins_silver_3_years.head()"
   ],
   "metadata": {
    "collapsed": false,
    "pycharm": {
     "name": "#%%\n"
    }
   }
  },
  {
   "cell_type": "code",
   "execution_count": null,
   "outputs": [],
   "source": [
    "# allcoins_nedrag_3_years = allcoins_nedrag[allcoins_nedrag['DT'] >= startdate]\n",
    "# allcoins_nedrag_3_years.head()"
   ],
   "metadata": {
    "collapsed": false,
    "pycharm": {
     "name": "#%%\n"
    }
   }
  },
  {
   "cell_type": "code",
   "execution_count": null,
   "outputs": [],
   "source": [
    "# allcoins_combine_3_years = allcoins_combine[allcoins_combine['DT'] >= startdate]\n",
    "# allcoins_combine_3_years.head()"
   ],
   "metadata": {
    "collapsed": false,
    "pycharm": {
     "name": "#%%\n"
    }
   }
  },
  {
   "cell_type": "code",
   "execution_count": null,
   "outputs": [],
   "source": [
    "# def get_plot_count(datafr, i):\n",
    "#     plt.figure(figsize=(10,5))\n",
    "#     ax = sns.countplot(datafr['Nominal'])\n",
    "#     ax.set(xlabel='Номинал монет', \n",
    "#            ylabel='Количество видов')\n",
    "#     plt.suptitle('Количество видов монет за последние 3 года', size = 14)\n",
    "# #     plt.figsize=(20, 20)\n",
    "#     plt.title(str(i), size = 12)\n",
    "\n",
    "#     plt.show()"
   ],
   "metadata": {
    "collapsed": false,
    "pycharm": {
     "name": "#%%\n"
    }
   }
  },
  {
   "cell_type": "code",
   "execution_count": null,
   "outputs": [],
   "source": [
    "# get_plot_count(allcoins_gold_3_years, 'золото')"
   ],
   "metadata": {
    "collapsed": false,
    "pycharm": {
     "name": "#%%\n"
    }
   }
  },
  {
   "cell_type": "code",
   "execution_count": null,
   "outputs": [],
   "source": [
    "# get_plot_count(allcoins_silver_3_years, '(серебро)')"
   ],
   "metadata": {
    "collapsed": false,
    "pycharm": {
     "name": "#%%\n"
    }
   }
  },
  {
   "cell_type": "code",
   "execution_count": null,
   "outputs": [],
   "source": [
    "# get_plot_count(allcoins_nedrag_3_years, '(недрагоценные металлы)')"
   ],
   "metadata": {
    "collapsed": false,
    "pycharm": {
     "name": "#%%\n"
    }
   }
  },
  {
   "cell_type": "code",
   "execution_count": null,
   "outputs": [],
   "source": [
    "# ВОТ ОТСЮДА"
   ],
   "metadata": {
    "collapsed": false,
    "pycharm": {
     "name": "#%%\n"
    }
   }
  },
  {
   "cell_type": "code",
   "execution_count": null,
   "outputs": [],
   "source": [
    "# result_df.head()"
   ],
   "metadata": {
    "collapsed": false,
    "pycharm": {
     "name": "#%%\n"
    }
   }
  },
  {
   "cell_type": "code",
   "execution_count": null,
   "outputs": [],
   "source": [
    "# result_df_stat = result_df[['sell_price','Nominal']]\n",
    "# result_df_stat.groupby('Nominal').describe()"
   ],
   "metadata": {
    "collapsed": false,
    "pycharm": {
     "name": "#%%\n"
    }
   }
  },
  {
   "cell_type": "code",
   "execution_count": null,
   "outputs": [],
   "source": [
    "# .groupby('Nominal').describe()"
   ],
   "metadata": {
    "collapsed": false,
    "pycharm": {
     "name": "#%%\n"
    }
   }
  },
  {
   "cell_type": "code",
   "execution_count": null,
   "outputs": [],
   "source": [
    "# result_df_gold = result_df[result_df['metal'].isin(gold_list)]\n",
    "# result_df_gold.Nominal.unique()"
   ],
   "metadata": {
    "collapsed": false,
    "pycharm": {
     "name": "#%%\n"
    }
   }
  },
  {
   "cell_type": "code",
   "execution_count": null,
   "outputs": [],
   "source": [
    "# result_df_silver = result_df[result_df['metal'].isin(silver_list)]"
   ],
   "metadata": {
    "collapsed": false,
    "pycharm": {
     "name": "#%%\n"
    }
   }
  },
  {
   "cell_type": "code",
   "execution_count": null,
   "outputs": [],
   "source": [
    "# result_df_nedrag = result_df[result_df['metal'].isin(nedrag_list)]"
   ],
   "metadata": {
    "collapsed": false,
    "pycharm": {
     "name": "#%%\n"
    }
   }
  },
  {
   "cell_type": "code",
   "execution_count": null,
   "outputs": [],
   "source": [
    "# describe"
   ],
   "metadata": {
    "collapsed": false,
    "pycharm": {
     "name": "#%%\n"
    }
   }
  },
  {
   "cell_type": "code",
   "execution_count": null,
   "outputs": [],
   "source": [
    "# result_df_gold[['sell_price','Nominal']].groupby('Nominal').describe()"
   ],
   "metadata": {
    "collapsed": false,
    "pycharm": {
     "name": "#%%\n"
    }
   }
  },
  {
   "cell_type": "code",
   "execution_count": null,
   "outputs": [],
   "source": [
    "# result_df_silver[['sell_price','Nominal']].groupby('Nominal').describe()"
   ],
   "metadata": {
    "collapsed": false,
    "pycharm": {
     "name": "#%%\n"
    }
   }
  },
  {
   "cell_type": "code",
   "execution_count": null,
   "outputs": [],
   "source": [
    "# result_df_nedrag[['sell_price','Nominal']].groupby('Nominal').describe()"
   ],
   "metadata": {
    "collapsed": false,
    "pycharm": {
     "name": "#%%\n"
    }
   }
  },
  {
   "cell_type": "code",
   "execution_count": null,
   "outputs": [],
   "source": [
    "# result_df_nedrag[['sell_price','Nominal']].groupby('Nominal').describe()"
   ],
   "metadata": {
    "collapsed": false,
    "pycharm": {
     "name": "#%%\n"
    }
   }
  },
  {
   "cell_type": "code",
   "execution_count": null,
   "outputs": [],
   "source": [
    "# result_df_nedrag[['sell_price','coin_name', 'rus_name']].groupby('sell_price').describe()"
   ],
   "metadata": {
    "collapsed": false,
    "pycharm": {
     "name": "#%%\n"
    }
   }
  },
  {
   "cell_type": "code",
   "execution_count": null,
   "outputs": [],
   "source": [
    "# result_df_gold.info()"
   ],
   "metadata": {
    "collapsed": false,
    "pycharm": {
     "name": "#%%\n"
    }
   }
  },
  {
   "cell_type": "code",
   "execution_count": null,
   "outputs": [],
   "source": [
    "# result_df_gold.Nominal.unique()"
   ],
   "metadata": {
    "collapsed": false,
    "pycharm": {
     "name": "#%%\n"
    }
   }
  },
  {
   "cell_type": "code",
   "execution_count": null,
   "outputs": [],
   "source": [
    "# for i in set(result_df_gold.Nominal.unique()):\n",
    "#     hidden = result_df_gold\n",
    "#     hidden['Nominal'] = result_df_gold[result_df_gold['Nominal']==str(i)]\n",
    "#     hidden.groupby('cat_number').describe()"
   ],
   "metadata": {
    "collapsed": false,
    "pycharm": {
     "name": "#%%\n"
    }
   }
  },
  {
   "cell_type": "code",
   "execution_count": null,
   "outputs": [],
   "source": [
    "# result_df_gold[['sell_price','Nominal']].head()"
   ],
   "metadata": {
    "collapsed": false,
    "pycharm": {
     "name": "#%%\n"
    }
   }
  },
  {
   "cell_type": "code",
   "execution_count": null,
   "outputs": [],
   "source": [
    "# res_clear = result_df_gold[['sell_price','Nominal']]\n",
    "# res_clear = res_clear[res_clear['sell_price']>30000] #мусорные цены, надо вычистить в базе\n",
    "# nominal_list = set(res_clear['Nominal'])"
   ],
   "metadata": {
    "collapsed": false,
    "pycharm": {
     "name": "#%%\n"
    }
   }
  },
  {
   "cell_type": "code",
   "execution_count": null,
   "outputs": [],
   "source": [
    "# nominal_list"
   ],
   "metadata": {
    "collapsed": false,
    "pycharm": {
     "name": "#%%\n"
    }
   }
  },
  {
   "cell_type": "code",
   "execution_count": null,
   "outputs": [],
   "source": [
    "# for i in nominal_list:\n",
    "#     hidden_df = res_clear[res_clear['Nominal']==i]\n",
    "#     sns.histplot(hidden_df['sell_price'], \n",
    "#                 color=\"gold\",\n",
    "#                 bins = 10).set(title=i)\n",
    "#     plt.show()"
   ],
   "metadata": {
    "collapsed": false,
    "pycharm": {
     "name": "#%%\n"
    }
   }
  },
  {
   "cell_type": "code",
   "execution_count": null,
   "outputs": [],
   "source": [
    "# res_clear = result_df_silver[['sell_price','Nominal']]\n",
    "# res_clear = res_clear[res_clear['sell_price']>2000] #мусорные цены, надо вычистить в базе\n",
    "# nominal_list = set(res_clear['Nominal'])"
   ],
   "metadata": {
    "collapsed": false,
    "pycharm": {
     "name": "#%%\n"
    }
   }
  },
  {
   "cell_type": "code",
   "execution_count": null,
   "outputs": [],
   "source": [
    "# for i in nominal_list:\n",
    "#     hidden_df = res_clear[res_clear['Nominal']==i]\n",
    "#     sns.histplot(hidden_df['sell_price'], \n",
    "#                 color=\"silver\",\n",
    "#                 bins=100).set(title=i)\n",
    "#     plt.show()"
   ],
   "metadata": {
    "collapsed": false,
    "pycharm": {
     "name": "#%%\n"
    }
   }
  },
  {
   "cell_type": "code",
   "execution_count": null,
   "outputs": [],
   "source": [],
   "metadata": {
    "collapsed": false,
    "pycharm": {
     "name": "#%%\n"
    }
   }
  },
  {
   "cell_type": "code",
   "execution_count": null,
   "outputs": [],
   "source": [],
   "metadata": {
    "collapsed": false,
    "pycharm": {
     "name": "#%%\n"
    }
   }
  },
  {
   "cell_type": "code",
   "execution_count": null,
   "outputs": [],
   "source": [],
   "metadata": {
    "collapsed": false,
    "pycharm": {
     "name": "#%%\n"
    }
   }
  },
  {
   "cell_type": "code",
   "execution_count": null,
   "outputs": [],
   "source": [],
   "metadata": {
    "collapsed": false,
    "pycharm": {
     "name": "#%%\n"
    }
   }
  },
  {
   "cell_type": "code",
   "execution_count": null,
   "outputs": [],
   "source": [
    "# df.to_csv('docs/drags.csv')"
   ],
   "metadata": {
    "collapsed": false,
    "pycharm": {
     "name": "#%%\n"
    }
   }
  },
  {
   "cell_type": "code",
   "execution_count": null,
   "outputs": [],
   "source": [],
   "metadata": {
    "collapsed": false,
    "pycharm": {
     "name": "#%%\n"
    }
   }
  },
  {
   "cell_type": "code",
   "execution_count": null,
   "outputs": [],
   "source": [],
   "metadata": {
    "collapsed": false,
    "pycharm": {
     "name": "#%%\n"
    }
   }
  },
  {
   "cell_type": "code",
   "execution_count": null,
   "outputs": [],
   "source": [],
   "metadata": {
    "collapsed": false,
    "pycharm": {
     "name": "#%%\n"
    }
   }
  }
 ],
 "metadata": {
  "kernelspec": {
   "display_name": "Python 3",
   "language": "python",
   "name": "python3"
  },
  "language_info": {
   "codemirror_mode": {
    "name": "ipython",
    "version": 3
   },
   "file_extension": ".py",
   "mimetype": "text/x-python",
   "name": "python",
   "nbconvert_exporter": "python",
   "pygments_lexer": "ipython3",
   "version": "3.8.3"
  }
 },
 "nbformat": 4,
 "nbformat_minor": 1
}