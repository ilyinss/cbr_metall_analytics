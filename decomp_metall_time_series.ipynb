{
 "cells": [
  {
   "cell_type": "code",
   "execution_count": null,
   "metadata": {
    "pycharm": {
     "name": "#%%\n"
    }
   },
   "outputs": [],
   "source": [
    "import pandas as pd\n",
    "import seaborn as sns\n",
    "import matplotlib.pyplot as plt\n",
    "import datetime as dt\n",
    "from statsmodels.tsa.seasonal import seasonal_decompose\n",
    "import numpy as np"
   ]
  },
  {
   "cell_type": "code",
   "execution_count": null,
   "metadata": {
    "pycharm": {
     "name": "#%%\n"
    }
   },
   "outputs": [],
   "source": [
    "file = 'docs/metall_rates.csv'\n",
    "df = pd.read_csv(file, decimal=',')\n",
    "df.info()"
   ]
  },
  {
   "cell_type": "code",
   "execution_count": null,
   "metadata": {
    "pycharm": {
     "name": "#%%\n"
    }
   },
   "outputs": [],
   "source": [
    "df.head()"
   ]
  },
  {
   "cell_type": "code",
   "execution_count": null,
   "metadata": {
    "pycharm": {
     "name": "#%%\n"
    }
   },
   "outputs": [],
   "source": [
    "df['date'] = pd.to_datetime(df['date'],\n",
    "                           format = '%d.%m.%Y')\n",
    "df.info()"
   ]
  },
  {
   "cell_type": "code",
   "execution_count": null,
   "metadata": {
    "pycharm": {
     "name": "#%%\n"
    }
   },
   "outputs": [],
   "source": [
    "df.tail(30)"
   ]
  },
  {
   "cell_type": "code",
   "execution_count": null,
   "metadata": {
    "pycharm": {
     "name": "#%%\n"
    }
   },
   "outputs": [],
   "source": []
  },
  {
   "cell_type": "code",
   "execution_count": null,
   "metadata": {
    "pycharm": {
     "name": "#%%\n"
    }
   },
   "outputs": [],
   "source": [
    "df.date = df.date.sort_values()"
   ]
  },
  {
   "cell_type": "code",
   "execution_count": null,
   "metadata": {
    "pycharm": {
     "name": "#%%\n"
    }
   },
   "outputs": [],
   "source": [
    "df.head(30)"
   ]
  },
  {
   "cell_type": "code",
   "execution_count": null,
   "metadata": {
    "pycharm": {
     "name": "#%%\n"
    }
   },
   "outputs": [],
   "source": [
    "df.tail(30)"
   ]
  },
  {
   "cell_type": "code",
   "execution_count": null,
   "metadata": {
    "pycharm": {
     "name": "#%%\n"
    }
   },
   "outputs": [],
   "source": [
    "# create date_range\n",
    "# end - 2020-10-17\n",
    "yeardays = pd.date_range(start=pd.datetime(2020, 1, 1),\n",
    "                           end=pd.datetime(2020, 10, 17))\n",
    "yeardays"
   ]
  },
  {
   "cell_type": "code",
   "execution_count": null,
   "metadata": {
    "pycharm": {
     "name": "#%%\n"
    }
   },
   "outputs": [],
   "source": [
    "# convert to DataFrame\n",
    "yeardays = pd.DataFrame(yeardays)\n",
    "yeardays = yeardays.rename(columns={0: \"date\"})\n",
    "yeardays.info()"
   ]
  },
  {
   "cell_type": "code",
   "execution_count": null,
   "metadata": {
    "pycharm": {
     "name": "#%%\n"
    }
   },
   "outputs": [],
   "source": [
    "# merge two df's \n",
    "ndf = pd.merge(left=yeardays,\n",
    "               right=df,\n",
    "               on=\"date\",\n",
    "              how='outer')\n",
    "ndf.head(35)"
   ]
  },
  {
   "cell_type": "code",
   "execution_count": null,
   "metadata": {
    "pycharm": {
     "name": "#%%\n"
    }
   },
   "outputs": [],
   "source": [
    "ndf = ndf.ffill(axis = 0)\n",
    "ndf.head(50)"
   ]
  },
  {
   "cell_type": "code",
   "execution_count": null,
   "metadata": {
    "pycharm": {
     "name": "#%%\n"
    }
   },
   "outputs": [],
   "source": [
    "df = ndf\n",
    "df.info()"
   ]
  },
  {
   "cell_type": "code",
   "execution_count": null,
   "metadata": {
    "pycharm": {
     "name": "#%%\n"
    }
   },
   "outputs": [],
   "source": [
    "# df['formatted_date'] = pd.to_datetime(df['datetime'])\n",
    "df['month'] = df['date'].apply(lambda x: x.month)\n",
    "df['week'] = df['date'].apply(lambda x: x.weekofyear)"
   ]
  },
  {
   "cell_type": "code",
   "execution_count": null,
   "metadata": {
    "pycharm": {
     "name": "#%%\n"
    }
   },
   "outputs": [],
   "source": [
    "df['mean_per_week_gold'] = df.groupby('week')['gold'].transform('mean')\n",
    "df['mean_per_week_silver'] = df.groupby('week')['silver'].transform('mean')\n",
    "df['mean_per_month_gold'] = df.groupby('month')['gold'].transform('mean')\n",
    "df['mean_per_month_silver'] = df.groupby('month')['silver'].transform('mean')\n",
    "df.head(50)"
   ]
  },
  {
   "cell_type": "markdown",
   "metadata": {},
   "source": [
    "**Построить**\n",
    "  1. Графики из тетрадки\n",
    "  2. Из средних по месяцам взять и сравнить средние января и октября\n",
    "  3. Скользящие средние на 50 дней"
   ]
  },
  {
   "cell_type": "code",
   "execution_count": null,
   "metadata": {
    "pycharm": {
     "name": "#%%\n"
    }
   },
   "outputs": [],
   "source": [
    "df.index = df['date']\n",
    "df.drop('date',axis = 1, inplace = True)\n",
    "df.head(50)"
   ]
  },
  {
   "cell_type": "code",
   "execution_count": null,
   "metadata": {
    "pycharm": {
     "name": "#%%\n"
    }
   },
   "outputs": [],
   "source": [
    "df.columns"
   ]
  },
  {
   "cell_type": "code",
   "execution_count": null,
   "metadata": {
    "pycharm": {
     "name": "#%%\n"
    }
   },
   "outputs": [],
   "source": [
    "for i in df.columns:\n",
    "    print(i)"
   ]
  },
  {
   "cell_type": "code",
   "execution_count": null,
   "metadata": {
    "pycharm": {
     "name": "#%%\n"
    }
   },
   "outputs": [],
   "source": [
    "# silver_list = ['silver', 'mean_per_week_silver', 'mean_per_month_silver']\n",
    "silver_list = ['silver', 'mean_per_week_silver']\n",
    "# gold_list = ['gold', 'mean_per_week_gold', 'mean_per_month_gold']\n",
    "gold_list = ['gold', 'mean_per_week_gold']"
   ]
  },
  {
   "cell_type": "code",
   "execution_count": null,
   "metadata": {
    "pycharm": {
     "name": "#%%\n"
    }
   },
   "outputs": [],
   "source": [
    "def plot_for_list(metall_list):\n",
    "    for i in metall_list:\n",
    "        df[i].plot(figsize=(20,6))"
   ]
  },
  {
   "cell_type": "code",
   "execution_count": null,
   "metadata": {
    "pycharm": {
     "name": "#%%\n"
    }
   },
   "outputs": [],
   "source": [
    "plot_for_list(silver_list)"
   ]
  },
  {
   "cell_type": "code",
   "execution_count": null,
   "metadata": {
    "pycharm": {
     "name": "#%%\n"
    }
   },
   "outputs": [],
   "source": [
    "plot_for_list(gold_list)"
   ]
  },
  {
   "cell_type": "code",
   "execution_count": null,
   "metadata": {
    "pycharm": {
     "name": "#%%\n"
    }
   },
   "outputs": [],
   "source": []
  },
  {
   "cell_type": "code",
   "execution_count": null,
   "metadata": {
    "pycharm": {
     "name": "#%%\n"
    }
   },
   "outputs": [],
   "source": [
    "def seasonal_decompose_plot(result):\n",
    "    fig, axes = plt.subplots(ncols = 1, nrows = 4, sharex = True, figsize = (12,10))\n",
    "\n",
    "    # ----------------------------------------------------------------------------------------------------\n",
    "    # plot the data\n",
    "    # using this cool thread:\n",
    "    # https://stackoverflow.com/questions/45184055/how-to-plot-multiple-seasonal-decompose-plots-in-one-figure\n",
    "    # This allows us to have more control over the plots\n",
    "\n",
    "    # plot the original data\n",
    "    result.observed.plot(ax = axes[0], legend = False)\n",
    "    axes[0].set_ylabel('Observed')\n",
    "    axes[0].set_title(\"Декомпозичия временного ряда 2020 по золоту\")\n",
    "\n",
    "    # plot the trend\n",
    "    result.trend.plot(ax = axes[1], legend = False)\n",
    "    axes[1].set_ylabel('Trend')\n",
    "\n",
    "    # plot the seasonal part\n",
    "    result.seasonal.plot(ax = axes[2], legend = False)\n",
    "    axes[2].set_ylabel('Seasonal')\n",
    "\n",
    "    # plot the residual\n",
    "    result.resid.plot(ax = axes[3], legend = False)\n",
    "    axes[3].set_ylabel('Residual')\n",
    "\n",
    "    # ----------------------------------------------------------------------------------------------------\n",
    "    # prettify the plot\n",
    "\n",
    "    # get the xticks and the xticks labels\n",
    "    # xtick_location = df.index.tolist()[::6]\n",
    "    # xtick_labels = df[\"new_date\"].tolist()[::6]\n",
    "\n",
    "    # set the xticks to be every 6'th entry\n",
    "    # every 6 months\n",
    "    # ax.set_xticks(xtick_location)\n",
    "\n",
    "    # chage the label from '1949-01-01 00:00:00' to this 'Jan-1949'\n",
    "    # ax.set_xticklabels(xtick_labels, rotation=90, fontdict={'horizontalalignment': 'center', 'verticalalignment': 'center_baseline'});"
   ]
  },
  {
   "cell_type": "code",
   "execution_count": null,
   "metadata": {
    "pycharm": {
     "name": "#%%\n"
    }
   },
   "outputs": [],
   "source": [
    "result = seasonal_decompose(df['gold'], model='multiplicative')\n",
    "seasonal_decompose_plot(result)"
   ]
  },
  {
   "cell_type": "code",
   "execution_count": null,
   "metadata": {
    "pycharm": {
     "name": "#%%\n"
    }
   },
   "outputs": [],
   "source": [
    "result = seasonal_decompose(df['silver'], model='multiplicative')\n",
    "seasonal_decompose_plot(result)"
   ]
  },
  {
   "cell_type": "code",
   "execution_count": null,
   "metadata": {
    "pycharm": {
     "name": "#%%\n"
    }
   },
   "outputs": [],
   "source": []
  },
  {
   "cell_type": "code",
   "execution_count": null,
   "metadata": {
    "pycharm": {
     "name": "#%%\n"
    }
   },
   "outputs": [],
   "source": []
  },
  {
   "cell_type": "code",
   "execution_count": null,
   "metadata": {
    "pycharm": {
     "name": "#%%\n"
    }
   },
   "outputs": [],
   "source": [
    "# тут построить разложения по месяцам"
   ]
  },
  {
   "cell_type": "code",
   "execution_count": null,
   "metadata": {
    "pycharm": {
     "name": "#%%\n"
    }
   },
   "outputs": [],
   "source": [
    "# золото и серебро\n",
    "\n",
    "# x = df['date']\n",
    "y1 = df['gold']\n",
    "y2 = df['silver']\n",
    "\n",
    "# Plot Line1 (Left Y Axis)\n",
    "fig, ax1 = plt.subplots(1,1,figsize=(16,9), dpi= 80)\n",
    "# ax1.plot(x, y1, color='tab:red')\n",
    "ax1.plot(y1, color='tab:red')\n",
    "\n",
    "# Plot Line2 (Right Y Axis)\n",
    "ax2 = ax1.twinx()  # instantiate a second axes that shares the same x-axis\n",
    "# ax2.plot(x, y2, color='tab:blue')\n",
    "ax2.plot(y2, color='tab:blue')\n",
    "\n",
    "# Decorations\n",
    "# ax1 (left Y axis)\n",
    "ax1.set_xlabel('Year', fontsize=20)\n",
    "# ax1.tick_params(axis='x', rotation=0, labelsize=12)\n",
    "ax1.set_ylabel('Gold', color='tab:red', fontsize=20)\n",
    "ax1.tick_params(axis='y', rotation=0, labelcolor='tab:red' )\n",
    "ax1.grid(alpha=.4)\n",
    "\n",
    "# ax2 (right Y axis)\n",
    "ax2.set_ylabel(\"Silver\", color='tab:blue', fontsize=20)\n",
    "ax2.tick_params(axis='y', labelcolor='tab:blue')\n",
    "# ax2.set_xticks(np.arange(0, len(x), 60))\n",
    "# ax2.set_xticklabels(x[::60], rotation=90, fontdict={'fontsize':10})\n",
    "ax2.set_title(\"Gold vs Silver\", fontsize=22)\n",
    "fig.tight_layout()\n",
    "plt.show()"
   ]
  },
  {
   "cell_type": "code",
   "execution_count": null,
   "metadata": {
    "pycharm": {
     "name": "#%%\n"
    }
   },
   "outputs": [],
   "source": [
    "# тут можно построить такие сравнения по месяцам"
   ]
  },
  {
   "cell_type": "code",
   "execution_count": null,
   "metadata": {
    "pycharm": {
     "name": "#%%\n"
    }
   },
   "outputs": [],
   "source": [
    "# график сезонов\n",
    "def metall_trend_monthly(metall):\n",
    "    mycolors = ['tab:red', 'tab:blue', 'tab:green', 'tab:orange', 'tab:brown', 'tab:grey', 'tab:pink', 'tab:olive', 'deeppink', 'steelblue']\n",
    "    months = ['январь','февраль','март','апрель','май','июнь','июль','август','сентябрь','октябрь']\n",
    "    plt.figure(figsize=(16,10), dpi= 80)\n",
    "    plt.title('Сравнение сезонных трендов по месяцам')\n",
    "    plt.xlabel('day of month', fontsize=14)\n",
    "    plt.ylabel('price', fontsize=14)\n",
    "    lines = []\n",
    "    for i, y in enumerate(df[metall].groupby(pd.Grouper(freq='M'))):\n",
    "        p,=plt.plot(range(len(y[1])),y[1], color=mycolors[i], label=months[i])\n",
    "        lines.append(p)\n",
    "    plt.legend(handles=lines)"
   ]
  },
  {
   "cell_type": "code",
   "execution_count": null,
   "metadata": {
    "pycharm": {
     "name": "#%%\n"
    }
   },
   "outputs": [],
   "source": [
    "metall_trend_monthly('silver')"
   ]
  },
  {
   "cell_type": "code",
   "execution_count": null,
   "metadata": {
    "pycharm": {
     "name": "#%%\n"
    }
   },
   "outputs": [],
   "source": [
    "metall_trend_monthly('gold')"
   ]
  },
  {
   "cell_type": "code",
   "execution_count": null,
   "metadata": {
    "pycharm": {
     "name": "#%%\n"
    }
   },
   "outputs": [],
   "source": [
    "# по неделям - работает плохо\n",
    "\n",
    "# mycolors = ['tab:red', 'tab:blue', 'tab:green', 'tab:orange', 'tab:brown', 'tab:grey', 'tab:pink', 'tab:olive', 'deeppink', 'steelblue']\n",
    "# week_days = ['понедельник','вторник','среда','четверг','пятница','суббота','воскресенье']\n",
    "# plt.figure(figsize=(16,10), dpi= 80)\n",
    "# plt.title('Сравнение сезонных трендов по неделям')\n",
    "# plt.xlabel('day of week', fontsize=14)\n",
    "# plt.ylabel('price', fontsize=14)\n",
    "# lines = []\n",
    "# for i, y in enumerate(df['silver'].groupby(pd.Grouper(freq='W'))):\n",
    "#     p,=plt.plot(range(len(y[1])),y[1], color=mycolors[i], label=week_days[i])\n",
    "#     lines.append(p)\n",
    "# plt.legend(handles=lines)"
   ]
  },
  {
   "cell_type": "code",
   "execution_count": null,
   "metadata": {
    "pycharm": {
     "name": "#%%\n"
    }
   },
   "outputs": [],
   "source": [
    "from datetime import date"
   ]
  },
  {
   "cell_type": "code",
   "execution_count": 316,
   "metadata": {
    "pycharm": {
     "name": "#%%\n"
    }
   },
   "outputs": [],
   "source": [
    "allbanks = pd.read_csv('docs/allbanks.csv', \n",
    "                       encoding='cp1251', \n",
    "                       sep=';', \n",
    "                       index_col=0)\n",
    "allcoins = pd.read_csv('docs/allcoins.csv', \n",
    "                       encoding='cp1251', \n",
    "                       sep=';', \n",
    "                       index_col=0)\n",
    "prices = pd.read_csv('docs/prices.csv', \n",
    "                     encoding='cp1251', \n",
    "                     sep=';')"
   ]
  },
  {
   "cell_type": "code",
   "execution_count": 317,
   "metadata": {
    "pycharm": {
     "name": "#%%\n"
    }
   },
   "outputs": [
    {
     "data": {
      "text/html": [
       "<div>\n",
       "<style scoped>\n",
       "    .dataframe tbody tr th:only-of-type {\n",
       "        vertical-align: middle;\n",
       "    }\n",
       "\n",
       "    .dataframe tbody tr th {\n",
       "        vertical-align: top;\n",
       "    }\n",
       "\n",
       "    .dataframe thead th {\n",
       "        text-align: right;\n",
       "    }\n",
       "</style>\n",
       "<table border=\"1\" class=\"dataframe\">\n",
       "  <thead>\n",
       "    <tr style=\"text-align: right;\">\n",
       "      <th></th>\n",
       "      <th>rus_name</th>\n",
       "      <th>eng_name</th>\n",
       "      <th>obsolete</th>\n",
       "    </tr>\n",
       "    <tr>\n",
       "      <th>id</th>\n",
       "      <th></th>\n",
       "      <th></th>\n",
       "      <th></th>\n",
       "    </tr>\n",
       "  </thead>\n",
       "  <tbody>\n",
       "    <tr>\n",
       "      <th>1</th>\n",
       "      <td>ПАО АКБ «АВАНГАРД»</td>\n",
       "      <td>avangard</td>\n",
       "      <td>NaN</td>\n",
       "    </tr>\n",
       "    <tr>\n",
       "      <th>2</th>\n",
       "      <td>АО КБ «АГРОПРОМКРЕДИТ»</td>\n",
       "      <td>agropromcredit</td>\n",
       "      <td>NaN</td>\n",
       "    </tr>\n",
       "    <tr>\n",
       "      <th>3</th>\n",
       "      <td>«Азиатско-Тихоокеанский Банк» (ПАО)</td>\n",
       "      <td>atb</td>\n",
       "      <td>NaN</td>\n",
       "    </tr>\n",
       "    <tr>\n",
       "      <th>4</th>\n",
       "      <td>ПАО «АК БАРС» БАНК</td>\n",
       "      <td>NaN</td>\n",
       "      <td>NaN</td>\n",
       "    </tr>\n",
       "    <tr>\n",
       "      <th>5</th>\n",
       "      <td>АО «Банк Акцепт»</td>\n",
       "      <td>NaN</td>\n",
       "      <td>NaN</td>\n",
       "    </tr>\n",
       "  </tbody>\n",
       "</table>\n",
       "</div>"
      ],
      "text/plain": [
       "                               rus_name        eng_name  obsolete\n",
       "id                                                               \n",
       "1                    ПАО АКБ «АВАНГАРД»        avangard       NaN\n",
       "2                АО КБ «АГРОПРОМКРЕДИТ»  agropromcredit       NaN\n",
       "3   «Азиатско-Тихоокеанский Банк» (ПАО)             atb       NaN\n",
       "4                    ПАО «АК БАРС» БАНК             NaN       NaN\n",
       "5                      АО «Банк Акцепт»             NaN       NaN"
      ]
     },
     "execution_count": 317,
     "metadata": {},
     "output_type": "execute_result"
    }
   ],
   "source": [
    "allbanks.head()"
   ]
  },
  {
   "cell_type": "code",
   "execution_count": 318,
   "metadata": {
    "pycharm": {
     "name": "#%%\n"
    }
   },
   "outputs": [
    {
     "data": {
      "text/html": [
       "<div>\n",
       "<style scoped>\n",
       "    .dataframe tbody tr th:only-of-type {\n",
       "        vertical-align: middle;\n",
       "    }\n",
       "\n",
       "    .dataframe tbody tr th {\n",
       "        vertical-align: top;\n",
       "    }\n",
       "\n",
       "    .dataframe thead th {\n",
       "        text-align: right;\n",
       "    }\n",
       "</style>\n",
       "<table border=\"1\" class=\"dataframe\">\n",
       "  <thead>\n",
       "    <tr style=\"text-align: right;\">\n",
       "      <th></th>\n",
       "      <th>cat_number</th>\n",
       "      <th>coin_name</th>\n",
       "      <th>series_id</th>\n",
       "      <th>DT</th>\n",
       "      <th>Qlty</th>\n",
       "      <th>Nominal</th>\n",
       "      <th>Mintage</th>\n",
       "      <th>metal</th>\n",
       "      <th>Mint_id</th>\n",
       "    </tr>\n",
       "    <tr>\n",
       "      <th>id</th>\n",
       "      <th></th>\n",
       "      <th></th>\n",
       "      <th></th>\n",
       "      <th></th>\n",
       "      <th></th>\n",
       "      <th></th>\n",
       "      <th></th>\n",
       "      <th></th>\n",
       "      <th></th>\n",
       "    </tr>\n",
       "  </thead>\n",
       "  <tbody>\n",
       "    <tr>\n",
       "      <th>1</th>\n",
       "      <td>3213-0010</td>\n",
       "      <td>Червонец</td>\n",
       "      <td>1</td>\n",
       "      <td>709851600</td>\n",
       "      <td>1</td>\n",
       "      <td>10</td>\n",
       "      <td>6565000</td>\n",
       "      <td>Au-900</td>\n",
       "      <td>6</td>\n",
       "    </tr>\n",
       "    <tr>\n",
       "      <th>2</th>\n",
       "      <td>5109-0127</td>\n",
       "      <td>Ростехнадзор</td>\n",
       "      <td>1</td>\n",
       "      <td>1572901200</td>\n",
       "      <td>2</td>\n",
       "      <td>1</td>\n",
       "      <td>3000</td>\n",
       "      <td>Ag-925</td>\n",
       "      <td>3</td>\n",
       "    </tr>\n",
       "    <tr>\n",
       "      <th>3</th>\n",
       "      <td>5109-0123</td>\n",
       "      <td>Росреестр</td>\n",
       "      <td>1</td>\n",
       "      <td>1534280400</td>\n",
       "      <td>2</td>\n",
       "      <td>1</td>\n",
       "      <td>3000</td>\n",
       "      <td>Ag-925</td>\n",
       "      <td>3</td>\n",
       "    </tr>\n",
       "    <tr>\n",
       "      <th>4</th>\n",
       "      <td>5109-0122</td>\n",
       "      <td>100-летие военных комиссариатов</td>\n",
       "      <td>1</td>\n",
       "      <td>1521061200</td>\n",
       "      <td>2</td>\n",
       "      <td>1</td>\n",
       "      <td>3000</td>\n",
       "      <td>Ag-925</td>\n",
       "      <td>3</td>\n",
       "    </tr>\n",
       "    <tr>\n",
       "      <th>5</th>\n",
       "      <td>5109-0121</td>\n",
       "      <td>СК России</td>\n",
       "      <td>1</td>\n",
       "      <td>1514408400</td>\n",
       "      <td>2</td>\n",
       "      <td>1</td>\n",
       "      <td>3000</td>\n",
       "      <td>Ag-925</td>\n",
       "      <td>2</td>\n",
       "    </tr>\n",
       "  </tbody>\n",
       "</table>\n",
       "</div>"
      ],
      "text/plain": [
       "   cat_number                        coin_name  series_id          DT  Qlty  \\\n",
       "id                                                                            \n",
       "1   3213-0010                         Червонец          1   709851600     1   \n",
       "2   5109-0127                     Ростехнадзор          1  1572901200     2   \n",
       "3   5109-0123                        Росреестр          1  1534280400     2   \n",
       "4   5109-0122  100-летие военных комиссариатов          1  1521061200     2   \n",
       "5   5109-0121                        СК России          1  1514408400     2   \n",
       "\n",
       "    Nominal  Mintage   metal  Mint_id  \n",
       "id                                     \n",
       "1        10  6565000  Au-900        6  \n",
       "2         1     3000  Ag-925        3  \n",
       "3         1     3000  Ag-925        3  \n",
       "4         1     3000  Ag-925        3  \n",
       "5         1     3000  Ag-925        2  "
      ]
     },
     "execution_count": 318,
     "metadata": {},
     "output_type": "execute_result"
    }
   ],
   "source": [
    "allcoins.head()"
   ]
  },
  {
   "cell_type": "code",
   "execution_count": 319,
   "metadata": {
    "pycharm": {
     "name": "#%%\n"
    }
   },
   "outputs": [
    {
     "data": {
      "text/html": [
       "<div>\n",
       "<style scoped>\n",
       "    .dataframe tbody tr th:only-of-type {\n",
       "        vertical-align: middle;\n",
       "    }\n",
       "\n",
       "    .dataframe tbody tr th {\n",
       "        vertical-align: top;\n",
       "    }\n",
       "\n",
       "    .dataframe thead th {\n",
       "        text-align: right;\n",
       "    }\n",
       "</style>\n",
       "<table border=\"1\" class=\"dataframe\">\n",
       "  <thead>\n",
       "    <tr style=\"text-align: right;\">\n",
       "      <th></th>\n",
       "      <th>cat_number</th>\n",
       "      <th>coin_name</th>\n",
       "      <th>series_id</th>\n",
       "      <th>DT</th>\n",
       "      <th>Qlty</th>\n",
       "      <th>Nominal</th>\n",
       "      <th>Mintage</th>\n",
       "      <th>metal</th>\n",
       "      <th>Mint_id</th>\n",
       "    </tr>\n",
       "    <tr>\n",
       "      <th>id</th>\n",
       "      <th></th>\n",
       "      <th></th>\n",
       "      <th></th>\n",
       "      <th></th>\n",
       "      <th></th>\n",
       "      <th></th>\n",
       "      <th></th>\n",
       "      <th></th>\n",
       "      <th></th>\n",
       "    </tr>\n",
       "  </thead>\n",
       "  <tbody>\n",
       "    <tr>\n",
       "      <th>1</th>\n",
       "      <td>3213-0010</td>\n",
       "      <td>Червонец</td>\n",
       "      <td>1</td>\n",
       "      <td>1992-06-29</td>\n",
       "      <td>1</td>\n",
       "      <td>10</td>\n",
       "      <td>6565000</td>\n",
       "      <td>Au-900</td>\n",
       "      <td>6</td>\n",
       "    </tr>\n",
       "    <tr>\n",
       "      <th>2</th>\n",
       "      <td>5109-0127</td>\n",
       "      <td>Ростехнадзор</td>\n",
       "      <td>1</td>\n",
       "      <td>2019-11-04</td>\n",
       "      <td>2</td>\n",
       "      <td>1</td>\n",
       "      <td>3000</td>\n",
       "      <td>Ag-925</td>\n",
       "      <td>3</td>\n",
       "    </tr>\n",
       "    <tr>\n",
       "      <th>3</th>\n",
       "      <td>5109-0123</td>\n",
       "      <td>Росреестр</td>\n",
       "      <td>1</td>\n",
       "      <td>2018-08-14</td>\n",
       "      <td>2</td>\n",
       "      <td>1</td>\n",
       "      <td>3000</td>\n",
       "      <td>Ag-925</td>\n",
       "      <td>3</td>\n",
       "    </tr>\n",
       "    <tr>\n",
       "      <th>4</th>\n",
       "      <td>5109-0122</td>\n",
       "      <td>100-летие военных комиссариатов</td>\n",
       "      <td>1</td>\n",
       "      <td>2018-03-14</td>\n",
       "      <td>2</td>\n",
       "      <td>1</td>\n",
       "      <td>3000</td>\n",
       "      <td>Ag-925</td>\n",
       "      <td>3</td>\n",
       "    </tr>\n",
       "    <tr>\n",
       "      <th>5</th>\n",
       "      <td>5109-0121</td>\n",
       "      <td>СК России</td>\n",
       "      <td>1</td>\n",
       "      <td>2017-12-27</td>\n",
       "      <td>2</td>\n",
       "      <td>1</td>\n",
       "      <td>3000</td>\n",
       "      <td>Ag-925</td>\n",
       "      <td>2</td>\n",
       "    </tr>\n",
       "  </tbody>\n",
       "</table>\n",
       "</div>"
      ],
      "text/plain": [
       "   cat_number                        coin_name  series_id          DT  Qlty  \\\n",
       "id                                                                            \n",
       "1   3213-0010                         Червонец          1  1992-06-29     1   \n",
       "2   5109-0127                     Ростехнадзор          1  2019-11-04     2   \n",
       "3   5109-0123                        Росреестр          1  2018-08-14     2   \n",
       "4   5109-0122  100-летие военных комиссариатов          1  2018-03-14     2   \n",
       "5   5109-0121                        СК России          1  2017-12-27     2   \n",
       "\n",
       "    Nominal  Mintage   metal  Mint_id  \n",
       "id                                     \n",
       "1        10  6565000  Au-900        6  \n",
       "2         1     3000  Ag-925        3  \n",
       "3         1     3000  Ag-925        3  \n",
       "4         1     3000  Ag-925        3  \n",
       "5         1     3000  Ag-925        2  "
      ]
     },
     "execution_count": 319,
     "metadata": {},
     "output_type": "execute_result"
    }
   ],
   "source": [
    "allcoins.DT = pd.to_datetime(allcoins.DT, unit='s').dt.date\n",
    "allcoins.head()"
   ]
  },
  {
   "cell_type": "code",
   "execution_count": 320,
   "metadata": {
    "pycharm": {
     "name": "#%%\n"
    }
   },
   "outputs": [
    {
     "data": {
      "text/html": [
       "<div>\n",
       "<style scoped>\n",
       "    .dataframe tbody tr th:only-of-type {\n",
       "        vertical-align: middle;\n",
       "    }\n",
       "\n",
       "    .dataframe tbody tr th {\n",
       "        vertical-align: top;\n",
       "    }\n",
       "\n",
       "    .dataframe thead th {\n",
       "        text-align: right;\n",
       "    }\n",
       "</style>\n",
       "<table border=\"1\" class=\"dataframe\">\n",
       "  <thead>\n",
       "    <tr style=\"text-align: right;\">\n",
       "      <th></th>\n",
       "      <th>operation_id</th>\n",
       "      <th>id_bank</th>\n",
       "      <th>id_coin</th>\n",
       "      <th>date</th>\n",
       "      <th>sell_price</th>\n",
       "      <th>comment</th>\n",
       "    </tr>\n",
       "  </thead>\n",
       "  <tbody>\n",
       "    <tr>\n",
       "      <th>0</th>\n",
       "      <td>1</td>\n",
       "      <td>2</td>\n",
       "      <td>358</td>\n",
       "      <td>1.587111e+09</td>\n",
       "      <td>2700.0</td>\n",
       "      <td>NaN</td>\n",
       "    </tr>\n",
       "    <tr>\n",
       "      <th>1</th>\n",
       "      <td>2</td>\n",
       "      <td>2</td>\n",
       "      <td>359</td>\n",
       "      <td>1.587111e+09</td>\n",
       "      <td>11200.0</td>\n",
       "      <td>NaN</td>\n",
       "    </tr>\n",
       "    <tr>\n",
       "      <th>2</th>\n",
       "      <td>3</td>\n",
       "      <td>2</td>\n",
       "      <td>1092</td>\n",
       "      <td>1.587111e+09</td>\n",
       "      <td>2500.0</td>\n",
       "      <td>NaN</td>\n",
       "    </tr>\n",
       "    <tr>\n",
       "      <th>3</th>\n",
       "      <td>4</td>\n",
       "      <td>2</td>\n",
       "      <td>581</td>\n",
       "      <td>1.587111e+09</td>\n",
       "      <td>14000.0</td>\n",
       "      <td>NaN</td>\n",
       "    </tr>\n",
       "    <tr>\n",
       "      <th>4</th>\n",
       "      <td>5</td>\n",
       "      <td>2</td>\n",
       "      <td>1246</td>\n",
       "      <td>1.587111e+09</td>\n",
       "      <td>12000.0</td>\n",
       "      <td>NaN</td>\n",
       "    </tr>\n",
       "  </tbody>\n",
       "</table>\n",
       "</div>"
      ],
      "text/plain": [
       "   operation_id  id_bank  id_coin          date  sell_price  comment\n",
       "0             1        2      358  1.587111e+09      2700.0      NaN\n",
       "1             2        2      359  1.587111e+09     11200.0      NaN\n",
       "2             3        2     1092  1.587111e+09      2500.0      NaN\n",
       "3             4        2      581  1.587111e+09     14000.0      NaN\n",
       "4             5        2     1246  1.587111e+09     12000.0      NaN"
      ]
     },
     "execution_count": 320,
     "metadata": {},
     "output_type": "execute_result"
    }
   ],
   "source": [
    "prices.head()"
   ]
  },
  {
   "cell_type": "code",
   "execution_count": 321,
   "metadata": {
    "pycharm": {
     "name": "#%%\n"
    }
   },
   "outputs": [
    {
     "data": {
      "text/html": [
       "<div>\n",
       "<style scoped>\n",
       "    .dataframe tbody tr th:only-of-type {\n",
       "        vertical-align: middle;\n",
       "    }\n",
       "\n",
       "    .dataframe tbody tr th {\n",
       "        vertical-align: top;\n",
       "    }\n",
       "\n",
       "    .dataframe thead th {\n",
       "        text-align: right;\n",
       "    }\n",
       "</style>\n",
       "<table border=\"1\" class=\"dataframe\">\n",
       "  <thead>\n",
       "    <tr style=\"text-align: right;\">\n",
       "      <th></th>\n",
       "      <th>operation_id</th>\n",
       "      <th>id_bank</th>\n",
       "      <th>id_coin</th>\n",
       "      <th>date</th>\n",
       "      <th>sell_price</th>\n",
       "      <th>comment</th>\n",
       "    </tr>\n",
       "  </thead>\n",
       "  <tbody>\n",
       "    <tr>\n",
       "      <th>0</th>\n",
       "      <td>1</td>\n",
       "      <td>2</td>\n",
       "      <td>358</td>\n",
       "      <td>2020-04-17</td>\n",
       "      <td>2700.0</td>\n",
       "      <td>NaN</td>\n",
       "    </tr>\n",
       "    <tr>\n",
       "      <th>1</th>\n",
       "      <td>2</td>\n",
       "      <td>2</td>\n",
       "      <td>359</td>\n",
       "      <td>2020-04-17</td>\n",
       "      <td>11200.0</td>\n",
       "      <td>NaN</td>\n",
       "    </tr>\n",
       "    <tr>\n",
       "      <th>2</th>\n",
       "      <td>3</td>\n",
       "      <td>2</td>\n",
       "      <td>1092</td>\n",
       "      <td>2020-04-17</td>\n",
       "      <td>2500.0</td>\n",
       "      <td>NaN</td>\n",
       "    </tr>\n",
       "    <tr>\n",
       "      <th>3</th>\n",
       "      <td>4</td>\n",
       "      <td>2</td>\n",
       "      <td>581</td>\n",
       "      <td>2020-04-17</td>\n",
       "      <td>14000.0</td>\n",
       "      <td>NaN</td>\n",
       "    </tr>\n",
       "    <tr>\n",
       "      <th>4</th>\n",
       "      <td>5</td>\n",
       "      <td>2</td>\n",
       "      <td>1246</td>\n",
       "      <td>2020-04-17</td>\n",
       "      <td>12000.0</td>\n",
       "      <td>NaN</td>\n",
       "    </tr>\n",
       "  </tbody>\n",
       "</table>\n",
       "</div>"
      ],
      "text/plain": [
       "   operation_id  id_bank  id_coin        date  sell_price  comment\n",
       "0             1        2      358  2020-04-17      2700.0      NaN\n",
       "1             2        2      359  2020-04-17     11200.0      NaN\n",
       "2             3        2     1092  2020-04-17      2500.0      NaN\n",
       "3             4        2      581  2020-04-17     14000.0      NaN\n",
       "4             5        2     1246  2020-04-17     12000.0      NaN"
      ]
     },
     "execution_count": 321,
     "metadata": {},
     "output_type": "execute_result"
    }
   ],
   "source": [
    "prices.date = pd.to_datetime(prices.date, unit='s').dt.date\n",
    "prices.head()"
   ]
  },
  {
   "cell_type": "code",
   "execution_count": 322,
   "metadata": {
    "pycharm": {
     "name": "#%%\n"
    }
   },
   "outputs": [
    {
     "data": {
      "text/html": [
       "<div>\n",
       "<style scoped>\n",
       "    .dataframe tbody tr th:only-of-type {\n",
       "        vertical-align: middle;\n",
       "    }\n",
       "\n",
       "    .dataframe tbody tr th {\n",
       "        vertical-align: top;\n",
       "    }\n",
       "\n",
       "    .dataframe thead th {\n",
       "        text-align: right;\n",
       "    }\n",
       "</style>\n",
       "<table border=\"1\" class=\"dataframe\">\n",
       "  <thead>\n",
       "    <tr style=\"text-align: right;\">\n",
       "      <th></th>\n",
       "      <th>operation_id</th>\n",
       "      <th>id_bank</th>\n",
       "      <th>id_coin</th>\n",
       "      <th>date</th>\n",
       "      <th>sell_price</th>\n",
       "      <th>comment</th>\n",
       "      <th>cat_number</th>\n",
       "      <th>coin_name</th>\n",
       "      <th>series_id</th>\n",
       "      <th>DT</th>\n",
       "      <th>Qlty</th>\n",
       "      <th>Nominal</th>\n",
       "      <th>Mintage</th>\n",
       "      <th>metal</th>\n",
       "      <th>Mint_id</th>\n",
       "    </tr>\n",
       "  </thead>\n",
       "  <tbody>\n",
       "    <tr>\n",
       "      <th>0</th>\n",
       "      <td>1</td>\n",
       "      <td>2</td>\n",
       "      <td>358</td>\n",
       "      <td>2020-04-17</td>\n",
       "      <td>2700.0</td>\n",
       "      <td>NaN</td>\n",
       "      <td>5111-0395</td>\n",
       "      <td>200-летие со дня рождения И.С. Тургенева</td>\n",
       "      <td>20</td>\n",
       "      <td>2018-10-24</td>\n",
       "      <td>2</td>\n",
       "      <td>3</td>\n",
       "      <td>3000</td>\n",
       "      <td>Ag-925</td>\n",
       "      <td>3</td>\n",
       "    </tr>\n",
       "    <tr>\n",
       "      <th>147</th>\n",
       "      <td>148</td>\n",
       "      <td>2</td>\n",
       "      <td>358</td>\n",
       "      <td>2020-04-17</td>\n",
       "      <td>2700.0</td>\n",
       "      <td>NaN</td>\n",
       "      <td>5111-0395</td>\n",
       "      <td>200-летие со дня рождения И.С. Тургенева</td>\n",
       "      <td>20</td>\n",
       "      <td>2018-10-24</td>\n",
       "      <td>2</td>\n",
       "      <td>3</td>\n",
       "      <td>3000</td>\n",
       "      <td>Ag-925</td>\n",
       "      <td>3</td>\n",
       "    </tr>\n",
       "    <tr>\n",
       "      <th>307</th>\n",
       "      <td>308</td>\n",
       "      <td>22</td>\n",
       "      <td>358</td>\n",
       "      <td>2020-04-17</td>\n",
       "      <td>3500.0</td>\n",
       "      <td>NaN</td>\n",
       "      <td>5111-0395</td>\n",
       "      <td>200-летие со дня рождения И.С. Тургенева</td>\n",
       "      <td>20</td>\n",
       "      <td>2018-10-24</td>\n",
       "      <td>2</td>\n",
       "      <td>3</td>\n",
       "      <td>3000</td>\n",
       "      <td>Ag-925</td>\n",
       "      <td>3</td>\n",
       "    </tr>\n",
       "    <tr>\n",
       "      <th>328</th>\n",
       "      <td>329</td>\n",
       "      <td>2</td>\n",
       "      <td>358</td>\n",
       "      <td>2020-04-17</td>\n",
       "      <td>2700.0</td>\n",
       "      <td>NaN</td>\n",
       "      <td>5111-0395</td>\n",
       "      <td>200-летие со дня рождения И.С. Тургенева</td>\n",
       "      <td>20</td>\n",
       "      <td>2018-10-24</td>\n",
       "      <td>2</td>\n",
       "      <td>3</td>\n",
       "      <td>3000</td>\n",
       "      <td>Ag-925</td>\n",
       "      <td>3</td>\n",
       "    </tr>\n",
       "    <tr>\n",
       "      <th>488</th>\n",
       "      <td>489</td>\n",
       "      <td>22</td>\n",
       "      <td>358</td>\n",
       "      <td>2020-04-17</td>\n",
       "      <td>3500.0</td>\n",
       "      <td>NaN</td>\n",
       "      <td>5111-0395</td>\n",
       "      <td>200-летие со дня рождения И.С. Тургенева</td>\n",
       "      <td>20</td>\n",
       "      <td>2018-10-24</td>\n",
       "      <td>2</td>\n",
       "      <td>3</td>\n",
       "      <td>3000</td>\n",
       "      <td>Ag-925</td>\n",
       "      <td>3</td>\n",
       "    </tr>\n",
       "  </tbody>\n",
       "</table>\n",
       "</div>"
      ],
      "text/plain": [
       "     operation_id  id_bank  id_coin        date  sell_price  comment  \\\n",
       "0               1        2      358  2020-04-17      2700.0      NaN   \n",
       "147           148        2      358  2020-04-17      2700.0      NaN   \n",
       "307           308       22      358  2020-04-17      3500.0      NaN   \n",
       "328           329        2      358  2020-04-17      2700.0      NaN   \n",
       "488           489       22      358  2020-04-17      3500.0      NaN   \n",
       "\n",
       "    cat_number                                 coin_name  series_id  \\\n",
       "0    5111-0395  200-летие со дня рождения И.С. Тургенева         20   \n",
       "147  5111-0395  200-летие со дня рождения И.С. Тургенева         20   \n",
       "307  5111-0395  200-летие со дня рождения И.С. Тургенева         20   \n",
       "328  5111-0395  200-летие со дня рождения И.С. Тургенева         20   \n",
       "488  5111-0395  200-летие со дня рождения И.С. Тургенева         20   \n",
       "\n",
       "             DT  Qlty  Nominal  Mintage   metal  Mint_id  \n",
       "0    2018-10-24     2        3     3000  Ag-925        3  \n",
       "147  2018-10-24     2        3     3000  Ag-925        3  \n",
       "307  2018-10-24     2        3     3000  Ag-925        3  \n",
       "328  2018-10-24     2        3     3000  Ag-925        3  \n",
       "488  2018-10-24     2        3     3000  Ag-925        3  "
      ]
     },
     "execution_count": 322,
     "metadata": {},
     "output_type": "execute_result"
    }
   ],
   "source": [
    "result_df = prices.merge(allcoins, left_on = 'id_coin', right_index=True)\n",
    "result_df.head()"
   ]
  },
  {
   "cell_type": "code",
   "execution_count": 323,
   "metadata": {
    "pycharm": {
     "name": "#%%\n"
    }
   },
   "outputs": [
    {
     "data": {
      "text/html": [
       "<div>\n",
       "<style scoped>\n",
       "    .dataframe tbody tr th:only-of-type {\n",
       "        vertical-align: middle;\n",
       "    }\n",
       "\n",
       "    .dataframe tbody tr th {\n",
       "        vertical-align: top;\n",
       "    }\n",
       "\n",
       "    .dataframe thead th {\n",
       "        text-align: right;\n",
       "    }\n",
       "</style>\n",
       "<table border=\"1\" class=\"dataframe\">\n",
       "  <thead>\n",
       "    <tr style=\"text-align: right;\">\n",
       "      <th></th>\n",
       "      <th>operation_id</th>\n",
       "      <th>id_bank</th>\n",
       "      <th>id_coin</th>\n",
       "      <th>date</th>\n",
       "      <th>sell_price</th>\n",
       "      <th>comment</th>\n",
       "      <th>cat_number</th>\n",
       "      <th>coin_name</th>\n",
       "      <th>series_id</th>\n",
       "      <th>DT</th>\n",
       "      <th>Qlty</th>\n",
       "      <th>Nominal</th>\n",
       "      <th>Mintage</th>\n",
       "      <th>metal</th>\n",
       "      <th>Mint_id</th>\n",
       "      <th>rus_name</th>\n",
       "      <th>eng_name</th>\n",
       "      <th>obsolete</th>\n",
       "    </tr>\n",
       "  </thead>\n",
       "  <tbody>\n",
       "    <tr>\n",
       "      <th>0</th>\n",
       "      <td>1</td>\n",
       "      <td>2</td>\n",
       "      <td>358</td>\n",
       "      <td>2020-04-17</td>\n",
       "      <td>2700.0</td>\n",
       "      <td>NaN</td>\n",
       "      <td>5111-0395</td>\n",
       "      <td>200-летие со дня рождения И.С. Тургенева</td>\n",
       "      <td>20</td>\n",
       "      <td>2018-10-24</td>\n",
       "      <td>2</td>\n",
       "      <td>3</td>\n",
       "      <td>3000</td>\n",
       "      <td>Ag-925</td>\n",
       "      <td>3</td>\n",
       "      <td>АО КБ «АГРОПРОМКРЕДИТ»</td>\n",
       "      <td>agropromcredit</td>\n",
       "      <td>NaN</td>\n",
       "    </tr>\n",
       "    <tr>\n",
       "      <th>147</th>\n",
       "      <td>148</td>\n",
       "      <td>2</td>\n",
       "      <td>358</td>\n",
       "      <td>2020-04-17</td>\n",
       "      <td>2700.0</td>\n",
       "      <td>NaN</td>\n",
       "      <td>5111-0395</td>\n",
       "      <td>200-летие со дня рождения И.С. Тургенева</td>\n",
       "      <td>20</td>\n",
       "      <td>2018-10-24</td>\n",
       "      <td>2</td>\n",
       "      <td>3</td>\n",
       "      <td>3000</td>\n",
       "      <td>Ag-925</td>\n",
       "      <td>3</td>\n",
       "      <td>АО КБ «АГРОПРОМКРЕДИТ»</td>\n",
       "      <td>agropromcredit</td>\n",
       "      <td>NaN</td>\n",
       "    </tr>\n",
       "    <tr>\n",
       "      <th>328</th>\n",
       "      <td>329</td>\n",
       "      <td>2</td>\n",
       "      <td>358</td>\n",
       "      <td>2020-04-17</td>\n",
       "      <td>2700.0</td>\n",
       "      <td>NaN</td>\n",
       "      <td>5111-0395</td>\n",
       "      <td>200-летие со дня рождения И.С. Тургенева</td>\n",
       "      <td>20</td>\n",
       "      <td>2018-10-24</td>\n",
       "      <td>2</td>\n",
       "      <td>3</td>\n",
       "      <td>3000</td>\n",
       "      <td>Ag-925</td>\n",
       "      <td>3</td>\n",
       "      <td>АО КБ «АГРОПРОМКРЕДИТ»</td>\n",
       "      <td>agropromcredit</td>\n",
       "      <td>NaN</td>\n",
       "    </tr>\n",
       "    <tr>\n",
       "      <th>1</th>\n",
       "      <td>2</td>\n",
       "      <td>2</td>\n",
       "      <td>359</td>\n",
       "      <td>2020-04-17</td>\n",
       "      <td>11200.0</td>\n",
       "      <td>NaN</td>\n",
       "      <td>5115-0147</td>\n",
       "      <td>200-летие со дня рождения И.С. Тургенева</td>\n",
       "      <td>20</td>\n",
       "      <td>2018-10-24</td>\n",
       "      <td>2</td>\n",
       "      <td>25</td>\n",
       "      <td>1000</td>\n",
       "      <td>Ag-925</td>\n",
       "      <td>3</td>\n",
       "      <td>АО КБ «АГРОПРОМКРЕДИТ»</td>\n",
       "      <td>agropromcredit</td>\n",
       "      <td>NaN</td>\n",
       "    </tr>\n",
       "    <tr>\n",
       "      <th>148</th>\n",
       "      <td>149</td>\n",
       "      <td>2</td>\n",
       "      <td>359</td>\n",
       "      <td>2020-04-17</td>\n",
       "      <td>11200.0</td>\n",
       "      <td>NaN</td>\n",
       "      <td>5115-0147</td>\n",
       "      <td>200-летие со дня рождения И.С. Тургенева</td>\n",
       "      <td>20</td>\n",
       "      <td>2018-10-24</td>\n",
       "      <td>2</td>\n",
       "      <td>25</td>\n",
       "      <td>1000</td>\n",
       "      <td>Ag-925</td>\n",
       "      <td>3</td>\n",
       "      <td>АО КБ «АГРОПРОМКРЕДИТ»</td>\n",
       "      <td>agropromcredit</td>\n",
       "      <td>NaN</td>\n",
       "    </tr>\n",
       "  </tbody>\n",
       "</table>\n",
       "</div>"
      ],
      "text/plain": [
       "     operation_id  id_bank  id_coin        date  sell_price  comment  \\\n",
       "0               1        2      358  2020-04-17      2700.0      NaN   \n",
       "147           148        2      358  2020-04-17      2700.0      NaN   \n",
       "328           329        2      358  2020-04-17      2700.0      NaN   \n",
       "1               2        2      359  2020-04-17     11200.0      NaN   \n",
       "148           149        2      359  2020-04-17     11200.0      NaN   \n",
       "\n",
       "    cat_number                                 coin_name  series_id  \\\n",
       "0    5111-0395  200-летие со дня рождения И.С. Тургенева         20   \n",
       "147  5111-0395  200-летие со дня рождения И.С. Тургенева         20   \n",
       "328  5111-0395  200-летие со дня рождения И.С. Тургенева         20   \n",
       "1    5115-0147  200-летие со дня рождения И.С. Тургенева         20   \n",
       "148  5115-0147  200-летие со дня рождения И.С. Тургенева         20   \n",
       "\n",
       "             DT  Qlty  Nominal  Mintage   metal  Mint_id  \\\n",
       "0    2018-10-24     2        3     3000  Ag-925        3   \n",
       "147  2018-10-24     2        3     3000  Ag-925        3   \n",
       "328  2018-10-24     2        3     3000  Ag-925        3   \n",
       "1    2018-10-24     2       25     1000  Ag-925        3   \n",
       "148  2018-10-24     2       25     1000  Ag-925        3   \n",
       "\n",
       "                   rus_name        eng_name  obsolete  \n",
       "0    АО КБ «АГРОПРОМКРЕДИТ»  agropromcredit       NaN  \n",
       "147  АО КБ «АГРОПРОМКРЕДИТ»  agropromcredit       NaN  \n",
       "328  АО КБ «АГРОПРОМКРЕДИТ»  agropromcredit       NaN  \n",
       "1    АО КБ «АГРОПРОМКРЕДИТ»  agropromcredit       NaN  \n",
       "148  АО КБ «АГРОПРОМКРЕДИТ»  agropromcredit       NaN  "
      ]
     },
     "execution_count": 323,
     "metadata": {},
     "output_type": "execute_result"
    }
   ],
   "source": [
    "result_df = result_df.merge(allbanks, left_on = 'id_bank', right_index=True)\n",
    "result_df.head()"
   ]
  },
  {
   "cell_type": "code",
   "execution_count": null,
   "metadata": {
    "pycharm": {
     "name": "#%%\n"
    }
   },
   "outputs": [],
   "source": [
    "# visualization"
   ]
  },
  {
   "cell_type": "code",
   "execution_count": null,
   "metadata": {},
   "outputs": [],
   "source": []
  },
  {
   "cell_type": "code",
   "execution_count": null,
   "metadata": {
    "pycharm": {
     "name": "#%%\n"
    }
   },
   "outputs": [],
   "source": [
    "result_df['metal'].unique()"
   ]
  },
  {
   "cell_type": "code",
   "execution_count": null,
   "metadata": {
    "pycharm": {
     "name": "#%%\n"
    }
   },
   "outputs": [],
   "source": [
    "nedrag_list = ['Медно-никелевый сплав',\n",
    "               'Сталь с латунным/никелевым гальваническим покрытием',\n",
    "               'Сталь с латунным гальваническим покрытием', \n",
    "               'Латунь/Мельхиор',\n",
    "               'Сталь с никелевым гальваническим покрытием', \n",
    "               'Мельхиор']"
   ]
  },
  {
   "cell_type": "code",
   "execution_count": null,
   "metadata": {
    "pycharm": {
     "name": "#%%\n"
    }
   },
   "outputs": [],
   "source": [
    "drag_list = ['Ag-925', \n",
    "             'Au-999', \n",
    "             'Ag-999', \n",
    "             'Ag-900', \n",
    "             'Au-900',\n",
    "             'Ag-500',\n",
    "             'Ag-900/Au-900',\n",
    "             'Ag-925/Au-999', \n",
    "             'Ag-925/позолота']"
   ]
  },
  {
   "cell_type": "code",
   "execution_count": null,
   "metadata": {
    "pycharm": {
     "name": "#%%\n"
    }
   },
   "outputs": [],
   "source": [
    "# result_df_nedrag = result_df.query(\"metal not in nedrag_list\")\n",
    "# result_df_nedrag = result_df['metal'].\n",
    "def clear_not_in_list(metall_list, income_df):\n",
    "    resultat = income_df.copy()\n",
    "    for i in metall_list:\n",
    "        resultat = resultat[resultat.metal != i]\n",
    "    return resultat"
   ]
  },
  {
   "cell_type": "code",
   "execution_count": 327,
   "metadata": {},
   "outputs": [],
   "source": [
    "allcoins_drag = clear_not_in_list(nedrag_list, allcoins)"
   ]
  },
  {
   "cell_type": "code",
   "execution_count": 328,
   "metadata": {},
   "outputs": [],
   "source": [
    "allcoins_nedrag = clear_not_in_list(drag_list, allcoins)"
   ]
  },
  {
   "cell_type": "code",
   "execution_count": 329,
   "metadata": {},
   "outputs": [],
   "source": [
    "startdate = pd.to_datetime(\"2017-01-01\").date()"
   ]
  },
  {
   "cell_type": "code",
   "execution_count": 330,
   "metadata": {},
   "outputs": [],
   "source": [
    "allcoins_nedrag_3_years = allcoins_nedrag[allcoins_nedrag['DT'] >= startdate]"
   ]
  },
  {
   "cell_type": "code",
   "execution_count": 331,
   "metadata": {},
   "outputs": [],
   "source": [
    "allcoins_drag_3_years = allcoins_drag[allcoins_drag['DT'] >= startdate]"
   ]
  },
  {
   "cell_type": "code",
   "execution_count": 334,
   "metadata": {},
   "outputs": [
    {
     "name": "stderr",
     "output_type": "stream",
     "text": [
      "/Users/sergeyilyin/CodeProjects/cbr_metall_analytics/venv/lib/python3.8/site-packages/seaborn/_decorators.py:36: FutureWarning: Pass the following variable as a keyword arg: x. From version 0.12, the only valid positional argument will be `data`, and passing other arguments without an explicit keyword will result in an error or misinterpretation.\n",
      "  warnings.warn(\n"
     ]
    },
    {
     "data": {
      "image/png": "[encoded data removed]",
      "text/plain": [
       "<Figure size 720x720 with 1 Axes>"
      ]
     },
     "metadata": {
      "needs_background": "light"
     },
     "output_type": "display_data"
    }
   ],
   "source": [
    "sns.countplot(allcoins_drag_3_years['Nominal']);\n",
    "plt.show()"
   ]
  },
  {
   "cell_type": "code",
   "execution_count": null,
   "metadata": {
    "pycharm": {
     "name": "#%%\n"
    }
   },
   "outputs": [],
   "source": [
    "result_df_drag = clear_not_in_list(nedrag_list, result_df)\n",
    "result_df_drag.head()"
   ]
  },
  {
   "cell_type": "code",
   "execution_count": null,
   "metadata": {
    "pycharm": {
     "name": "#%%\n"
    }
   },
   "outputs": [],
   "source": [
    "result_df_nedrag = clear_not_in_list(drag_list, result_df)\n",
    "result_df_nedrag.head()"
   ]
  },
  {
   "cell_type": "code",
   "execution_count": null,
   "metadata": {
    "pycharm": {
     "name": "#%%\n"
    }
   },
   "outputs": [],
   "source": []
  },
  {
   "cell_type": "code",
   "execution_count": null,
   "metadata": {
    "pycharm": {
     "name": "#%%\n"
    }
   },
   "outputs": [],
   "source": [
    "# по количеству выпущенных монет (в тираже) за последние 3 года"
   ]
  },
  {
   "cell_type": "code",
   "execution_count": null,
   "metadata": {
    "pycharm": {
     "name": "#%%\n"
    }
   },
   "outputs": [],
   "source": []
  },
  {
   "cell_type": "code",
   "execution_count": null,
   "metadata": {
    "pycharm": {
     "name": "#%%\n"
    }
   },
   "outputs": [],
   "source": [
    "result_df_nedrag_3_years = result_df_nedrag[result_df_nedrag['date'] >= startdate]\n",
    "result_df_nedrag_3_years.head(20)"
   ]
  },
  {
   "cell_type": "code",
   "execution_count": null,
   "metadata": {
    "pycharm": {
     "name": "#%%\n"
    }
   },
   "outputs": [],
   "source": [
    "result_df_drag_3_years = result_df_drag[result_df_drag['date'] >= startdate]\n",
    "result_df_drag_3_years.head(20)"
   ]
  },
  {
   "cell_type": "code",
   "execution_count": null,
   "metadata": {
    "pycharm": {
     "name": "#%%\n"
    }
   },
   "outputs": [],
   "source": [
    "# ВОТ ОТСЮДА"
   ]
  },
  {
   "cell_type": "code",
   "execution_count": null,
   "metadata": {
    "pycharm": {
     "name": "#%%\n"
    }
   },
   "outputs": [],
   "source": [
    "sns.countplot(data = result_df_drag_3_years['Nominal'],\n",
    "              y = result_df_drag_3_years['Mintage']);\n",
    "plt.show()"
   ]
  },
  {
   "cell_type": "code",
   "execution_count": null,
   "metadata": {
    "pycharm": {
     "name": "#%%\n"
    }
   },
   "outputs": [],
   "source": []
  },
  {
   "cell_type": "code",
   "execution_count": null,
   "metadata": {
    "pycharm": {
     "name": "#%%\n"
    }
   },
   "outputs": [],
   "source": [
    "sns.countplot(result_df_nedrag_3_years['Nominal']);\n",
    "plt.show()"
   ]
  },
  {
   "cell_type": "code",
   "execution_count": null,
   "metadata": {
    "pycharm": {
     "name": "#%%\n"
    }
   },
   "outputs": [],
   "source": [
    "sns.histplot(result_df_drag_3_years['Nominal'],\n",
    "             bins=3,\n",
    "             kde=False)"
   ]
  },
  {
   "cell_type": "code",
   "execution_count": null,
   "metadata": {
    "pycharm": {
     "name": "#%%\n"
    }
   },
   "outputs": [],
   "source": [
    "# по количеству видов выпущенных монет за последние 3 года"
   ]
  },
  {
   "cell_type": "code",
   "execution_count": null,
   "metadata": {
    "pycharm": {
     "name": "#%%\n"
    }
   },
   "outputs": [],
   "source": [
    "sns."
   ]
  },
  {
   "cell_type": "code",
   "execution_count": null,
   "metadata": {
    "pycharm": {
     "name": "#%%\n"
    }
   },
   "outputs": [],
   "source": []
  },
  {
   "cell_type": "code",
   "execution_count": null,
   "metadata": {
    "pycharm": {
     "name": "#%%\n"
    }
   },
   "outputs": [],
   "source": []
  },
  {
   "cell_type": "code",
   "execution_count": null,
   "metadata": {
    "pycharm": {
     "name": "#%%\n"
    }
   },
   "outputs": [],
   "source": []
  },
  {
   "cell_type": "code",
   "execution_count": null,
   "metadata": {
    "pycharm": {
     "name": "#%%\n"
    }
   },
   "outputs": [],
   "source": []
  },
  {
   "cell_type": "code",
   "execution_count": null,
   "metadata": {
    "pycharm": {
     "name": "#%%\n"
    }
   },
   "outputs": [],
   "source": []
  },
  {
   "cell_type": "code",
   "execution_count": null,
   "metadata": {
    "pycharm": {
     "name": "#%%\n"
    }
   },
   "outputs": [],
   "source": [
    "df.to_csv('docs/drags.csv')"
   ]
  },
  {
   "cell_type": "code",
   "execution_count": null,
   "metadata": {
    "pycharm": {
     "name": "#%%\n"
    }
   },
   "outputs": [],
   "source": []
  },
  {
   "cell_type": "code",
   "execution_count": null,
   "metadata": {
    "pycharm": {
     "name": "#%%\n"
    }
   },
   "outputs": [],
   "source": []
  }
 ],
 "metadata": {
  "kernelspec": {
   "display_name": "Python 3",
   "language": "python",
   "name": "python3"
  },
  "language_info": {
   "codemirror_mode": {
    "name": "ipython",
    "version": 3
   },
   "file_extension": ".py",
   "mimetype": "text/x-python",
   "name": "python",
   "nbconvert_exporter": "python",
   "pygments_lexer": "ipython3",
   "version": "3.8.3"
  }
 },
 "nbformat": 4,
 "nbformat_minor": 1
}