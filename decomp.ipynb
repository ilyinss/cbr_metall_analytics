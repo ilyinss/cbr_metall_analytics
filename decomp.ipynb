{
 "cells": [
  {
   "cell_type": "code",
   "execution_count": 47,
   "metadata": {
    "collapsed": true
   },
   "outputs": [],
   "source": [
    "import pandas as pd\n",
    "import seaborn as sns\n",
    "import matplotlib.pyplot as plt\n",
    "import datetime as dt"
   ]
  },
  {
   "cell_type": "code",
   "execution_count": 32,
   "outputs": [
    {
     "name": "stdout",
     "output_type": "stream",
     "text": [
      "<class 'pandas.core.frame.DataFrame'>\n",
      "RangeIndex: 191 entries, 0 to 190\n",
      "Data columns (total 3 columns):\n",
      " #   Column  Non-Null Count  Dtype  \n",
      "---  ------  --------------  -----  \n",
      " 0   date    191 non-null    object \n",
      " 1   gold    191 non-null    float64\n",
      " 2   silver  191 non-null    float64\n",
      "dtypes: float64(2), object(1)\n",
      "memory usage: 4.6+ KB\n"
     ]
    }
   ],
   "source": [
    "file = 'docs/metall_rates.csv'\n",
    "df = pd.read_csv(file, decimal=',')\n",
    "df.info()"
   ],
   "metadata": {
    "collapsed": false,
    "pycharm": {
     "name": "#%%\n"
    }
   }
  },
  {
   "cell_type": "code",
   "execution_count": 33,
   "outputs": [
    {
     "name": "stdout",
     "output_type": "stream",
     "text": [
      "        date     gold  silver\n",
      "0 2020-10-17  4783.12   61.06\n",
      "1 2020-10-16  4740.64   59.98\n",
      "2 2020-10-15  4711.68   60.06\n",
      "3 2020-10-14  4772.77   61.96\n",
      "4 2020-10-13  4754.14   62.06\n",
      "<class 'pandas.core.frame.DataFrame'>\n",
      "RangeIndex: 191 entries, 0 to 190\n",
      "Data columns (total 3 columns):\n",
      " #   Column  Non-Null Count  Dtype         \n",
      "---  ------  --------------  -----         \n",
      " 0   date    191 non-null    datetime64[ns]\n",
      " 1   gold    191 non-null    float64       \n",
      " 2   silver  191 non-null    float64       \n",
      "dtypes: datetime64[ns](1), float64(2)\n",
      "memory usage: 4.6 KB\n",
      "None\n"
     ]
    }
   ],
   "source": [
    "df['date'] = pd.to_datetime(df['date'])\n",
    "# df['date'].sort_values(ascending=True)\n",
    "print(df.head())\n",
    "print(df.info())\n"
   ],
   "metadata": {
    "collapsed": false,
    "pycharm": {
     "name": "#%%\n"
    }
   }
  },
  {
   "cell_type": "code",
   "execution_count": 48,
   "outputs": [
    {
     "name": "stderr",
     "output_type": "stream",
     "text": [
      "<ipython-input-48-ef5814c90faf>:2: FutureWarning: Series.dt.weekofyear and Series.dt.week have been deprecated.  Please use Series.dt.isocalendar().week instead.\n",
      "  df['week'] = df['date'].dt.week\n"
     ]
    },
    {
     "data": {
      "text/plain": "        date     gold  silver  week  month\n0 2020-10-17  4783.12   61.06    42     10\n1 2020-10-16  4740.64   59.98    42     10\n2 2020-10-15  4711.68   60.06    42     10\n3 2020-10-14  4772.77   61.96    42     10\n4 2020-10-13  4754.14   62.06    42     10",
      "text/html": "<div>\n<style scoped>\n    .dataframe tbody tr th:only-of-type {\n        vertical-align: middle;\n    }\n\n    .dataframe tbody tr th {\n        vertical-align: top;\n    }\n\n    .dataframe thead th {\n        text-align: right;\n    }\n</style>\n<table border=\"1\" class=\"dataframe\">\n  <thead>\n    <tr style=\"text-align: right;\">\n      <th></th>\n      <th>date</th>\n      <th>gold</th>\n      <th>silver</th>\n      <th>week</th>\n      <th>month</th>\n    </tr>\n  </thead>\n  <tbody>\n    <tr>\n      <th>0</th>\n      <td>2020-10-17</td>\n      <td>4783.12</td>\n      <td>61.06</td>\n      <td>42</td>\n      <td>10</td>\n    </tr>\n    <tr>\n      <th>1</th>\n      <td>2020-10-16</td>\n      <td>4740.64</td>\n      <td>59.98</td>\n      <td>42</td>\n      <td>10</td>\n    </tr>\n    <tr>\n      <th>2</th>\n      <td>2020-10-15</td>\n      <td>4711.68</td>\n      <td>60.06</td>\n      <td>42</td>\n      <td>10</td>\n    </tr>\n    <tr>\n      <th>3</th>\n      <td>2020-10-14</td>\n      <td>4772.77</td>\n      <td>61.96</td>\n      <td>42</td>\n      <td>10</td>\n    </tr>\n    <tr>\n      <th>4</th>\n      <td>2020-10-13</td>\n      <td>4754.14</td>\n      <td>62.06</td>\n      <td>42</td>\n      <td>10</td>\n    </tr>\n  </tbody>\n</table>\n</div>"
     },
     "execution_count": 48,
     "metadata": {},
     "output_type": "execute_result"
    }
   ],
   "source": [
    "df['month'] = df['date'].dt.month\n",
    "df['week'] = df['date'].dt.week\n",
    "# df['week'] = df['date'].apply(datetime.time(df['date']).isocalendar()[1])\n",
    "df.head()"
   ],
   "metadata": {
    "collapsed": false,
    "pycharm": {
     "name": "#%%\n"
    }
   }
  },
  {
   "cell_type": "code",
   "execution_count": null,
   "outputs": [],
   "source": [
    "df['mean_per_week_gold'] = df.groupby('week')['gold'].transform('mean')\n",
    "df['mean_per_week_silver'] = df.groupby('week')['silver'].transform('mean')\n",
    "df['mean_per_month_gold'] = df.groupby('month')['gold'].transform('mean')\n",
    "df['mean_per_month_silver'] = df.groupby('month')['silver'].transform('mean')\n",
    "df.head()"
   ],
   "metadata": {
    "collapsed": false,
    "pycharm": {
     "name": "#%%\n"
    }
   }
  },
  {
   "cell_type": "code",
   "execution_count": 71,
   "outputs": [],
   "source": [
    "df.to_csv('docs/drags.csv')"
   ],
   "metadata": {
    "collapsed": false,
    "pycharm": {
     "name": "#%%\n"
    }
   }
  },
  {
   "cell_type": "code",
   "execution_count": null,
   "outputs": [],
   "source": [],
   "metadata": {
    "collapsed": false,
    "pycharm": {
     "name": "#%%\n"
    }
   }
  }
 ],
 "metadata": {
  "kernelspec": {
   "display_name": "Python 3",
   "language": "python",
   "name": "python3"
  },
  "language_info": {
   "codemirror_mode": {
    "name": "ipython",
    "version": 2
   },
   "file_extension": ".py",
   "mimetype": "text/x-python",
   "name": "python",
   "nbconvert_exporter": "python",
   "pygments_lexer": "ipython2",
   "version": "2.7.6"
  }
 },
 "nbformat": 4,
 "nbformat_minor": 0
}